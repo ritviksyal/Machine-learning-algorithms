{
 "cells": [
  {
   "cell_type": "code",
   "execution_count": 1,
   "metadata": {},
   "outputs": [],
   "source": [
    "import pandas as pd\n",
    "import numpy as np\n",
    "import seaborn as sns\n",
    "import pandas_profiling as pp"
   ]
  },
  {
   "cell_type": "code",
   "execution_count": 4,
   "metadata": {},
   "outputs": [],
   "source": [
    "bankloans = pd.read_csv('bankloans.csv')"
   ]
  },
  {
   "cell_type": "code",
   "execution_count": 5,
   "metadata": {},
   "outputs": [
    {
     "data": {
      "text/html": [
       "<div>\n",
       "<style scoped>\n",
       "    .dataframe tbody tr th:only-of-type {\n",
       "        vertical-align: middle;\n",
       "    }\n",
       "\n",
       "    .dataframe tbody tr th {\n",
       "        vertical-align: top;\n",
       "    }\n",
       "\n",
       "    .dataframe thead th {\n",
       "        text-align: right;\n",
       "    }\n",
       "</style>\n",
       "<table border=\"1\" class=\"dataframe\">\n",
       "  <thead>\n",
       "    <tr style=\"text-align: right;\">\n",
       "      <th></th>\n",
       "      <th>age</th>\n",
       "      <th>ed</th>\n",
       "      <th>employ</th>\n",
       "      <th>address</th>\n",
       "      <th>income</th>\n",
       "      <th>debtinc</th>\n",
       "      <th>creddebt</th>\n",
       "      <th>othdebt</th>\n",
       "      <th>default</th>\n",
       "    </tr>\n",
       "  </thead>\n",
       "  <tbody>\n",
       "    <tr>\n",
       "      <th>0</th>\n",
       "      <td>41</td>\n",
       "      <td>3</td>\n",
       "      <td>17</td>\n",
       "      <td>12</td>\n",
       "      <td>176</td>\n",
       "      <td>9.3</td>\n",
       "      <td>11.359392</td>\n",
       "      <td>5.008608</td>\n",
       "      <td>1.0</td>\n",
       "    </tr>\n",
       "    <tr>\n",
       "      <th>1</th>\n",
       "      <td>27</td>\n",
       "      <td>1</td>\n",
       "      <td>10</td>\n",
       "      <td>6</td>\n",
       "      <td>31</td>\n",
       "      <td>17.3</td>\n",
       "      <td>1.362202</td>\n",
       "      <td>4.000798</td>\n",
       "      <td>0.0</td>\n",
       "    </tr>\n",
       "    <tr>\n",
       "      <th>2</th>\n",
       "      <td>40</td>\n",
       "      <td>1</td>\n",
       "      <td>15</td>\n",
       "      <td>14</td>\n",
       "      <td>55</td>\n",
       "      <td>5.5</td>\n",
       "      <td>0.856075</td>\n",
       "      <td>2.168925</td>\n",
       "      <td>0.0</td>\n",
       "    </tr>\n",
       "    <tr>\n",
       "      <th>3</th>\n",
       "      <td>41</td>\n",
       "      <td>1</td>\n",
       "      <td>15</td>\n",
       "      <td>14</td>\n",
       "      <td>120</td>\n",
       "      <td>2.9</td>\n",
       "      <td>2.658720</td>\n",
       "      <td>0.821280</td>\n",
       "      <td>0.0</td>\n",
       "    </tr>\n",
       "    <tr>\n",
       "      <th>4</th>\n",
       "      <td>24</td>\n",
       "      <td>2</td>\n",
       "      <td>2</td>\n",
       "      <td>0</td>\n",
       "      <td>28</td>\n",
       "      <td>17.3</td>\n",
       "      <td>1.787436</td>\n",
       "      <td>3.056564</td>\n",
       "      <td>1.0</td>\n",
       "    </tr>\n",
       "  </tbody>\n",
       "</table>\n",
       "</div>"
      ],
      "text/plain": [
       "   age  ed  employ  address  income  debtinc   creddebt   othdebt  default\n",
       "0   41   3      17       12     176      9.3  11.359392  5.008608      1.0\n",
       "1   27   1      10        6      31     17.3   1.362202  4.000798      0.0\n",
       "2   40   1      15       14      55      5.5   0.856075  2.168925      0.0\n",
       "3   41   1      15       14     120      2.9   2.658720  0.821280      0.0\n",
       "4   24   2       2        0      28     17.3   1.787436  3.056564      1.0"
      ]
     },
     "execution_count": 5,
     "metadata": {},
     "output_type": "execute_result"
    }
   ],
   "source": [
    "bankloans.head()"
   ]
  },
  {
   "cell_type": "code",
   "execution_count": 7,
   "metadata": {},
   "outputs": [
    {
     "name": "stdout",
     "output_type": "stream",
     "text": [
      "<class 'pandas.core.frame.DataFrame'>\n",
      "RangeIndex: 850 entries, 0 to 849\n",
      "Data columns (total 9 columns):\n",
      "age         850 non-null int64\n",
      "ed          850 non-null int64\n",
      "employ      850 non-null int64\n",
      "address     850 non-null int64\n",
      "income      850 non-null int64\n",
      "debtinc     850 non-null float64\n",
      "creddebt    850 non-null float64\n",
      "othdebt     850 non-null float64\n",
      "default     700 non-null float64\n",
      "dtypes: float64(4), int64(5)\n",
      "memory usage: 59.9 KB\n"
     ]
    }
   ],
   "source": [
    "bankloans.info()\n",
    "# ouput variable ie Dafauly has null values, these should be treated before model development"
   ]
  },
  {
   "cell_type": "code",
   "execution_count": 9,
   "metadata": {},
   "outputs": [
    {
     "data": {
      "text/plain": [
       "Index(['age', 'ed', 'employ', 'address', 'income', 'debtinc', 'creddebt',\n",
       "       'othdebt', 'default'],\n",
       "      dtype='object')"
      ]
     },
     "execution_count": 9,
     "metadata": {},
     "output_type": "execute_result"
    }
   ],
   "source": [
    "bankloans.columns\n",
    "# ed - education\n",
    "# default - could not repay loans in time or missed emi"
   ]
  },
  {
   "cell_type": "code",
   "execution_count": 12,
   "metadata": {},
   "outputs": [
    {
     "data": {
      "text/plain": [
       "age           int64\n",
       "ed            int64\n",
       "employ        int64\n",
       "address       int64\n",
       "income        int64\n",
       "debtinc     float64\n",
       "creddebt    float64\n",
       "othdebt     float64\n",
       "default     float64\n",
       "dtype: object"
      ]
     },
     "execution_count": 12,
     "metadata": {},
     "output_type": "execute_result"
    }
   ],
   "source": [
    "bankloans.dtypes\n",
    "# all are int or float so we can go directly to numeric summary"
   ]
  },
  {
   "cell_type": "code",
   "execution_count": 13,
   "metadata": {},
   "outputs": [],
   "source": [
    "# Defining function for summary, while calculating quantiles use dropna to get actual picture\n",
    "\n",
    "def var_summary(x):\n",
    "    return pd.Series([x.count(), x.isnull().sum(), x.sum(), x.mean(), x.median(),  x.std(), x.var(), x.min(), x.dropna().quantile(0.01), x.dropna().quantile(0.05),x.dropna().quantile(0.10),x.dropna().quantile(0.25),x.dropna().quantile(0.50),x.dropna().quantile(0.75), x.dropna().quantile(0.90),x.dropna().quantile(0.95), x.dropna().quantile(0.99),x.max()], \n",
    "                  index=['N', 'NMISS', 'SUM', 'MEAN','MEDIAN', 'STD', 'VAR', 'MIN', 'P1' , 'P5' ,'P10' ,'P25' ,'P50' ,'P75' ,'P90' ,'P95' ,'P99' ,'MAX'])\n"
   ]
  },
  {
   "cell_type": "code",
   "execution_count": 15,
   "metadata": {},
   "outputs": [
    {
     "data": {
      "text/html": [
       "<div>\n",
       "<style scoped>\n",
       "    .dataframe tbody tr th:only-of-type {\n",
       "        vertical-align: middle;\n",
       "    }\n",
       "\n",
       "    .dataframe tbody tr th {\n",
       "        vertical-align: top;\n",
       "    }\n",
       "\n",
       "    .dataframe thead th {\n",
       "        text-align: right;\n",
       "    }\n",
       "</style>\n",
       "<table border=\"1\" class=\"dataframe\">\n",
       "  <thead>\n",
       "    <tr style=\"text-align: right;\">\n",
       "      <th></th>\n",
       "      <th>N</th>\n",
       "      <th>NMISS</th>\n",
       "      <th>SUM</th>\n",
       "      <th>MEAN</th>\n",
       "      <th>MEDIAN</th>\n",
       "      <th>STD</th>\n",
       "      <th>VAR</th>\n",
       "      <th>MIN</th>\n",
       "      <th>P1</th>\n",
       "      <th>P5</th>\n",
       "      <th>P10</th>\n",
       "      <th>P25</th>\n",
       "      <th>P50</th>\n",
       "      <th>P75</th>\n",
       "      <th>P90</th>\n",
       "      <th>P95</th>\n",
       "      <th>P99</th>\n",
       "      <th>MAX</th>\n",
       "    </tr>\n",
       "  </thead>\n",
       "  <tbody>\n",
       "    <tr>\n",
       "      <th>age</th>\n",
       "      <td>850.0</td>\n",
       "      <td>0.0</td>\n",
       "      <td>29775.000000</td>\n",
       "      <td>35.029412</td>\n",
       "      <td>34.000000</td>\n",
       "      <td>8.041432</td>\n",
       "      <td>64.664623</td>\n",
       "      <td>20.000000</td>\n",
       "      <td>21.000000</td>\n",
       "      <td>23.000000</td>\n",
       "      <td>25.000000</td>\n",
       "      <td>29.000000</td>\n",
       "      <td>34.000000</td>\n",
       "      <td>41.000000</td>\n",
       "      <td>47.000000</td>\n",
       "      <td>49.000000</td>\n",
       "      <td>53.000000</td>\n",
       "      <td>56.00000</td>\n",
       "    </tr>\n",
       "    <tr>\n",
       "      <th>ed</th>\n",
       "      <td>850.0</td>\n",
       "      <td>0.0</td>\n",
       "      <td>1454.000000</td>\n",
       "      <td>1.710588</td>\n",
       "      <td>1.000000</td>\n",
       "      <td>0.927784</td>\n",
       "      <td>0.860783</td>\n",
       "      <td>1.000000</td>\n",
       "      <td>1.000000</td>\n",
       "      <td>1.000000</td>\n",
       "      <td>1.000000</td>\n",
       "      <td>1.000000</td>\n",
       "      <td>1.000000</td>\n",
       "      <td>2.000000</td>\n",
       "      <td>3.000000</td>\n",
       "      <td>4.000000</td>\n",
       "      <td>4.000000</td>\n",
       "      <td>5.00000</td>\n",
       "    </tr>\n",
       "    <tr>\n",
       "      <th>employ</th>\n",
       "      <td>850.0</td>\n",
       "      <td>0.0</td>\n",
       "      <td>7281.000000</td>\n",
       "      <td>8.565882</td>\n",
       "      <td>7.000000</td>\n",
       "      <td>6.777884</td>\n",
       "      <td>45.939706</td>\n",
       "      <td>0.000000</td>\n",
       "      <td>0.000000</td>\n",
       "      <td>0.000000</td>\n",
       "      <td>1.000000</td>\n",
       "      <td>3.000000</td>\n",
       "      <td>7.000000</td>\n",
       "      <td>13.000000</td>\n",
       "      <td>18.000000</td>\n",
       "      <td>21.550000</td>\n",
       "      <td>29.000000</td>\n",
       "      <td>33.00000</td>\n",
       "    </tr>\n",
       "    <tr>\n",
       "      <th>address</th>\n",
       "      <td>850.0</td>\n",
       "      <td>0.0</td>\n",
       "      <td>7116.000000</td>\n",
       "      <td>8.371765</td>\n",
       "      <td>7.000000</td>\n",
       "      <td>6.895016</td>\n",
       "      <td>47.541251</td>\n",
       "      <td>0.000000</td>\n",
       "      <td>0.000000</td>\n",
       "      <td>0.000000</td>\n",
       "      <td>1.000000</td>\n",
       "      <td>3.000000</td>\n",
       "      <td>7.000000</td>\n",
       "      <td>12.000000</td>\n",
       "      <td>19.000000</td>\n",
       "      <td>22.550000</td>\n",
       "      <td>26.510000</td>\n",
       "      <td>34.00000</td>\n",
       "    </tr>\n",
       "    <tr>\n",
       "      <th>income</th>\n",
       "      <td>850.0</td>\n",
       "      <td>0.0</td>\n",
       "      <td>39674.000000</td>\n",
       "      <td>46.675294</td>\n",
       "      <td>35.000000</td>\n",
       "      <td>38.543054</td>\n",
       "      <td>1485.566998</td>\n",
       "      <td>13.000000</td>\n",
       "      <td>14.490000</td>\n",
       "      <td>17.000000</td>\n",
       "      <td>19.000000</td>\n",
       "      <td>24.000000</td>\n",
       "      <td>35.000000</td>\n",
       "      <td>55.750000</td>\n",
       "      <td>84.000000</td>\n",
       "      <td>115.550000</td>\n",
       "      <td>220.510000</td>\n",
       "      <td>446.00000</td>\n",
       "    </tr>\n",
       "    <tr>\n",
       "      <th>debtinc</th>\n",
       "      <td>850.0</td>\n",
       "      <td>0.0</td>\n",
       "      <td>8645.900000</td>\n",
       "      <td>10.171647</td>\n",
       "      <td>8.700000</td>\n",
       "      <td>6.719441</td>\n",
       "      <td>45.150891</td>\n",
       "      <td>0.100000</td>\n",
       "      <td>0.900000</td>\n",
       "      <td>1.900000</td>\n",
       "      <td>2.900000</td>\n",
       "      <td>5.100000</td>\n",
       "      <td>8.700000</td>\n",
       "      <td>13.800000</td>\n",
       "      <td>19.200000</td>\n",
       "      <td>23.510000</td>\n",
       "      <td>31.565000</td>\n",
       "      <td>41.30000</td>\n",
       "    </tr>\n",
       "    <tr>\n",
       "      <th>creddebt</th>\n",
       "      <td>850.0</td>\n",
       "      <td>0.0</td>\n",
       "      <td>1340.284021</td>\n",
       "      <td>1.576805</td>\n",
       "      <td>0.885091</td>\n",
       "      <td>2.125840</td>\n",
       "      <td>4.519196</td>\n",
       "      <td>0.011696</td>\n",
       "      <td>0.030349</td>\n",
       "      <td>0.108927</td>\n",
       "      <td>0.178306</td>\n",
       "      <td>0.382176</td>\n",
       "      <td>0.885091</td>\n",
       "      <td>1.898440</td>\n",
       "      <td>3.703304</td>\n",
       "      <td>5.348674</td>\n",
       "      <td>10.285997</td>\n",
       "      <td>20.56131</td>\n",
       "    </tr>\n",
       "    <tr>\n",
       "      <th>othdebt</th>\n",
       "      <td>850.0</td>\n",
       "      <td>0.0</td>\n",
       "      <td>2616.970979</td>\n",
       "      <td>3.078789</td>\n",
       "      <td>2.003243</td>\n",
       "      <td>3.398803</td>\n",
       "      <td>11.551864</td>\n",
       "      <td>0.045584</td>\n",
       "      <td>0.162394</td>\n",
       "      <td>0.359900</td>\n",
       "      <td>0.552050</td>\n",
       "      <td>1.045942</td>\n",
       "      <td>2.003243</td>\n",
       "      <td>3.903001</td>\n",
       "      <td>7.111941</td>\n",
       "      <td>9.481105</td>\n",
       "      <td>16.931503</td>\n",
       "      <td>35.19750</td>\n",
       "    </tr>\n",
       "    <tr>\n",
       "      <th>default</th>\n",
       "      <td>700.0</td>\n",
       "      <td>150.0</td>\n",
       "      <td>183.000000</td>\n",
       "      <td>0.261429</td>\n",
       "      <td>0.000000</td>\n",
       "      <td>0.439727</td>\n",
       "      <td>0.193360</td>\n",
       "      <td>0.000000</td>\n",
       "      <td>0.000000</td>\n",
       "      <td>0.000000</td>\n",
       "      <td>0.000000</td>\n",
       "      <td>0.000000</td>\n",
       "      <td>0.000000</td>\n",
       "      <td>1.000000</td>\n",
       "      <td>1.000000</td>\n",
       "      <td>1.000000</td>\n",
       "      <td>1.000000</td>\n",
       "      <td>1.00000</td>\n",
       "    </tr>\n",
       "  </tbody>\n",
       "</table>\n",
       "</div>"
      ],
      "text/plain": [
       "              N  NMISS           SUM       MEAN     MEDIAN        STD  \\\n",
       "age       850.0    0.0  29775.000000  35.029412  34.000000   8.041432   \n",
       "ed        850.0    0.0   1454.000000   1.710588   1.000000   0.927784   \n",
       "employ    850.0    0.0   7281.000000   8.565882   7.000000   6.777884   \n",
       "address   850.0    0.0   7116.000000   8.371765   7.000000   6.895016   \n",
       "income    850.0    0.0  39674.000000  46.675294  35.000000  38.543054   \n",
       "debtinc   850.0    0.0   8645.900000  10.171647   8.700000   6.719441   \n",
       "creddebt  850.0    0.0   1340.284021   1.576805   0.885091   2.125840   \n",
       "othdebt   850.0    0.0   2616.970979   3.078789   2.003243   3.398803   \n",
       "default   700.0  150.0    183.000000   0.261429   0.000000   0.439727   \n",
       "\n",
       "                  VAR        MIN         P1         P5        P10        P25  \\\n",
       "age         64.664623  20.000000  21.000000  23.000000  25.000000  29.000000   \n",
       "ed           0.860783   1.000000   1.000000   1.000000   1.000000   1.000000   \n",
       "employ      45.939706   0.000000   0.000000   0.000000   1.000000   3.000000   \n",
       "address     47.541251   0.000000   0.000000   0.000000   1.000000   3.000000   \n",
       "income    1485.566998  13.000000  14.490000  17.000000  19.000000  24.000000   \n",
       "debtinc     45.150891   0.100000   0.900000   1.900000   2.900000   5.100000   \n",
       "creddebt     4.519196   0.011696   0.030349   0.108927   0.178306   0.382176   \n",
       "othdebt     11.551864   0.045584   0.162394   0.359900   0.552050   1.045942   \n",
       "default      0.193360   0.000000   0.000000   0.000000   0.000000   0.000000   \n",
       "\n",
       "                P50        P75        P90         P95         P99        MAX  \n",
       "age       34.000000  41.000000  47.000000   49.000000   53.000000   56.00000  \n",
       "ed         1.000000   2.000000   3.000000    4.000000    4.000000    5.00000  \n",
       "employ     7.000000  13.000000  18.000000   21.550000   29.000000   33.00000  \n",
       "address    7.000000  12.000000  19.000000   22.550000   26.510000   34.00000  \n",
       "income    35.000000  55.750000  84.000000  115.550000  220.510000  446.00000  \n",
       "debtinc    8.700000  13.800000  19.200000   23.510000   31.565000   41.30000  \n",
       "creddebt   0.885091   1.898440   3.703304    5.348674   10.285997   20.56131  \n",
       "othdebt    2.003243   3.903001   7.111941    9.481105   16.931503   35.19750  \n",
       "default    0.000000   1.000000   1.000000    1.000000    1.000000    1.00000  "
      ]
     },
     "execution_count": 15,
     "metadata": {},
     "output_type": "execute_result"
    }
   ],
   "source": [
    "summary_num = bankloans.apply(lambda x: var_summary(x))\n",
    "summary_num.T"
   ]
  },
  {
   "cell_type": "code",
   "execution_count": 16,
   "metadata": {},
   "outputs": [],
   "source": [
    "# from abpve summary we can see that Default has only 2 values 1 and 0 so Y is categorical here"
   ]
  },
  {
   "cell_type": "code",
   "execution_count": 18,
   "metadata": {},
   "outputs": [
    {
     "data": {
      "application/vnd.jupyter.widget-view+json": {
       "model_id": "5fcb7049a4dd4b908adf7060dd93f674",
       "version_major": 2,
       "version_minor": 0
      },
      "text/plain": [
       "HBox(children=(FloatProgress(value=0.0, description='variables', max=9.0, style=ProgressStyle(description_widt…"
      ]
     },
     "metadata": {},
     "output_type": "display_data"
    },
    {
     "name": "stdout",
     "output_type": "stream",
     "text": [
      "\n"
     ]
    },
    {
     "data": {
      "application/vnd.jupyter.widget-view+json": {
       "model_id": "1e16f2aeb0844abdae04a60cbc2edbad",
       "version_major": 2,
       "version_minor": 0
      },
      "text/plain": [
       "HBox(children=(FloatProgress(value=0.0, description='correlations', max=6.0, style=ProgressStyle(description_w…"
      ]
     },
     "metadata": {},
     "output_type": "display_data"
    },
    {
     "name": "stdout",
     "output_type": "stream",
     "text": [
      "\n"
     ]
    },
    {
     "data": {
      "application/vnd.jupyter.widget-view+json": {
       "model_id": "00b49195e0834bf1ace898b3b9d14103",
       "version_major": 2,
       "version_minor": 0
      },
      "text/plain": [
       "HBox(children=(FloatProgress(value=0.0, description='interactions [continuous]', max=64.0, style=ProgressStyle…"
      ]
     },
     "metadata": {},
     "output_type": "display_data"
    },
    {
     "name": "stdout",
     "output_type": "stream",
     "text": [
      "\n"
     ]
    },
    {
     "data": {
      "application/vnd.jupyter.widget-view+json": {
       "model_id": "01db4f189dae4a97b88665f9ff971036",
       "version_major": 2,
       "version_minor": 0
      },
      "text/plain": [
       "HBox(children=(FloatProgress(value=0.0, description='table', max=1.0, style=ProgressStyle(description_width='i…"
      ]
     },
     "metadata": {},
     "output_type": "display_data"
    },
    {
     "name": "stdout",
     "output_type": "stream",
     "text": [
      "\n"
     ]
    },
    {
     "data": {
      "application/vnd.jupyter.widget-view+json": {
       "model_id": "b1cab11210da4897bdec63f51345a720",
       "version_major": 2,
       "version_minor": 0
      },
      "text/plain": [
       "HBox(children=(FloatProgress(value=0.0, description='missing', max=3.0, style=ProgressStyle(description_width=…"
      ]
     },
     "metadata": {},
     "output_type": "display_data"
    },
    {
     "name": "stdout",
     "output_type": "stream",
     "text": [
      "\n"
     ]
    },
    {
     "data": {
      "application/vnd.jupyter.widget-view+json": {
       "model_id": "8c832ae6d85e4150bd8d59b3fa1cdec0",
       "version_major": 2,
       "version_minor": 0
      },
      "text/plain": [
       "HBox(children=(FloatProgress(value=0.0, description='warnings', max=3.0, style=ProgressStyle(description_width…"
      ]
     },
     "metadata": {},
     "output_type": "display_data"
    },
    {
     "name": "stdout",
     "output_type": "stream",
     "text": [
      "\n"
     ]
    },
    {
     "data": {
      "application/vnd.jupyter.widget-view+json": {
       "model_id": "1bcdf1fdec4e4f87b4eb1d323f324fc0",
       "version_major": 2,
       "version_minor": 0
      },
      "text/plain": [
       "HBox(children=(FloatProgress(value=0.0, description='package', max=1.0, style=ProgressStyle(description_width=…"
      ]
     },
     "metadata": {},
     "output_type": "display_data"
    },
    {
     "name": "stdout",
     "output_type": "stream",
     "text": [
      "\n"
     ]
    },
    {
     "data": {
      "application/vnd.jupyter.widget-view+json": {
       "model_id": "0c56194a7dc14a87b4e273fce440d5de",
       "version_major": 2,
       "version_minor": 0
      },
      "text/plain": [
       "HBox(children=(FloatProgress(value=0.0, description='build report structure', max=1.0, style=ProgressStyle(des…"
      ]
     },
     "metadata": {},
     "output_type": "display_data"
    },
    {
     "name": "stdout",
     "output_type": "stream",
     "text": [
      "\n"
     ]
    }
   ],
   "source": [
    "report = pp.ProfileReport(bankloans)"
   ]
  },
  {
   "cell_type": "code",
   "execution_count": 24,
   "metadata": {},
   "outputs": [],
   "source": [
    "report.to_file(output_file = 'profilereport_logreg.html')"
   ]
  },
  {
   "cell_type": "code",
   "execution_count": 315,
   "metadata": {},
   "outputs": [
    {
     "name": "stdout",
     "output_type": "stream",
     "text": [
      "<class 'pandas.core.frame.DataFrame'>\n",
      "Int64Index: 700 entries, 0 to 699\n",
      "Data columns (total 9 columns):\n",
      "age         700 non-null int64\n",
      "ed          700 non-null int64\n",
      "employ      700 non-null int64\n",
      "address     700 non-null int64\n",
      "income      700 non-null int64\n",
      "debtinc     700 non-null float64\n",
      "creddebt    700 non-null float64\n",
      "othdebt     700 non-null float64\n",
      "default     700 non-null float64\n",
      "dtypes: float64(4), int64(5)\n",
      "memory usage: 54.7 KB\n"
     ]
    }
   ],
   "source": [
    "bankloans_new = bankloans[bankloans.default.isnull()==1]\n",
    "bankloans_existing = bankloans[bankloans.default.isnull()==0]\n",
    "# where we have a value for Default(1 or 0) those are the existing loans for which we know who have defaulted\n",
    "bankloans_existing.info()"
   ]
  },
  {
   "cell_type": "code",
   "execution_count": 136,
   "metadata": {},
   "outputs": [],
   "source": [
    "# Treating outliers \n",
    "def outlier_cap(x):\n",
    "    x = x.clip_upper(x.quantile(0.99))\n",
    "    x = x.clip_lower(x.quantile(0.01))\n",
    "    return x"
   ]
  },
  {
   "cell_type": "code",
   "execution_count": 137,
   "metadata": {},
   "outputs": [],
   "source": [
    "bankloans_existing = bankloans_existing.apply(lambda x : outlier_cap(x))"
   ]
  },
  {
   "cell_type": "code",
   "execution_count": 138,
   "metadata": {},
   "outputs": [
    {
     "data": {
      "text/html": [
       "<div>\n",
       "<style scoped>\n",
       "    .dataframe tbody tr th:only-of-type {\n",
       "        vertical-align: middle;\n",
       "    }\n",
       "\n",
       "    .dataframe tbody tr th {\n",
       "        vertical-align: top;\n",
       "    }\n",
       "\n",
       "    .dataframe thead th {\n",
       "        text-align: right;\n",
       "    }\n",
       "</style>\n",
       "<table border=\"1\" class=\"dataframe\">\n",
       "  <thead>\n",
       "    <tr style=\"text-align: right;\">\n",
       "      <th></th>\n",
       "      <th>N</th>\n",
       "      <th>NMISS</th>\n",
       "      <th>SUM</th>\n",
       "      <th>MEAN</th>\n",
       "      <th>MEDIAN</th>\n",
       "      <th>STD</th>\n",
       "      <th>VAR</th>\n",
       "      <th>MIN</th>\n",
       "      <th>P1</th>\n",
       "      <th>P5</th>\n",
       "      <th>P10</th>\n",
       "      <th>P25</th>\n",
       "      <th>P50</th>\n",
       "      <th>P75</th>\n",
       "      <th>P90</th>\n",
       "      <th>P95</th>\n",
       "      <th>P99</th>\n",
       "      <th>MAX</th>\n",
       "    </tr>\n",
       "  </thead>\n",
       "  <tbody>\n",
       "    <tr>\n",
       "      <th>age</th>\n",
       "      <td>700.0</td>\n",
       "      <td>0.0</td>\n",
       "      <td>24393.070000</td>\n",
       "      <td>34.847243</td>\n",
       "      <td>34.000000</td>\n",
       "      <td>7.954735</td>\n",
       "      <td>63.277806</td>\n",
       "      <td>21.000000</td>\n",
       "      <td>21.000000</td>\n",
       "      <td>23.000000</td>\n",
       "      <td>25.000000</td>\n",
       "      <td>29.000000</td>\n",
       "      <td>34.000000</td>\n",
       "      <td>40.000000</td>\n",
       "      <td>46.000000</td>\n",
       "      <td>49.000000</td>\n",
       "      <td>53.000100</td>\n",
       "      <td>53.010000</td>\n",
       "    </tr>\n",
       "    <tr>\n",
       "      <th>ed</th>\n",
       "      <td>700.0</td>\n",
       "      <td>0.0</td>\n",
       "      <td>1201.000000</td>\n",
       "      <td>1.715714</td>\n",
       "      <td>1.000000</td>\n",
       "      <td>0.906523</td>\n",
       "      <td>0.821784</td>\n",
       "      <td>1.000000</td>\n",
       "      <td>1.000000</td>\n",
       "      <td>1.000000</td>\n",
       "      <td>1.000000</td>\n",
       "      <td>1.000000</td>\n",
       "      <td>1.000000</td>\n",
       "      <td>2.000000</td>\n",
       "      <td>3.000000</td>\n",
       "      <td>4.000000</td>\n",
       "      <td>4.000000</td>\n",
       "      <td>4.000000</td>\n",
       "    </tr>\n",
       "    <tr>\n",
       "      <th>employ</th>\n",
       "      <td>700.0</td>\n",
       "      <td>0.0</td>\n",
       "      <td>5851.070000</td>\n",
       "      <td>8.358671</td>\n",
       "      <td>7.000000</td>\n",
       "      <td>6.566008</td>\n",
       "      <td>43.112459</td>\n",
       "      <td>0.000000</td>\n",
       "      <td>0.000000</td>\n",
       "      <td>0.000000</td>\n",
       "      <td>1.000000</td>\n",
       "      <td>3.000000</td>\n",
       "      <td>7.000000</td>\n",
       "      <td>12.000000</td>\n",
       "      <td>18.000000</td>\n",
       "      <td>21.050000</td>\n",
       "      <td>27.000100</td>\n",
       "      <td>27.010000</td>\n",
       "    </tr>\n",
       "    <tr>\n",
       "      <th>address</th>\n",
       "      <td>700.0</td>\n",
       "      <td>0.0</td>\n",
       "      <td>5771.070000</td>\n",
       "      <td>8.244386</td>\n",
       "      <td>7.000000</td>\n",
       "      <td>6.721915</td>\n",
       "      <td>45.184140</td>\n",
       "      <td>0.000000</td>\n",
       "      <td>0.000000</td>\n",
       "      <td>0.000000</td>\n",
       "      <td>1.000000</td>\n",
       "      <td>3.000000</td>\n",
       "      <td>7.000000</td>\n",
       "      <td>12.000000</td>\n",
       "      <td>18.000000</td>\n",
       "      <td>22.000000</td>\n",
       "      <td>26.000100</td>\n",
       "      <td>26.010000</td>\n",
       "    </tr>\n",
       "    <tr>\n",
       "      <th>income</th>\n",
       "      <td>700.0</td>\n",
       "      <td>0.0</td>\n",
       "      <td>31394.100000</td>\n",
       "      <td>44.848714</td>\n",
       "      <td>34.000000</td>\n",
       "      <td>31.942133</td>\n",
       "      <td>1020.299870</td>\n",
       "      <td>15.000000</td>\n",
       "      <td>15.000000</td>\n",
       "      <td>17.000000</td>\n",
       "      <td>19.000000</td>\n",
       "      <td>24.000000</td>\n",
       "      <td>34.000000</td>\n",
       "      <td>55.000000</td>\n",
       "      <td>82.000000</td>\n",
       "      <td>113.000000</td>\n",
       "      <td>190.003000</td>\n",
       "      <td>190.300000</td>\n",
       "    </tr>\n",
       "    <tr>\n",
       "      <th>debtinc</th>\n",
       "      <td>700.0</td>\n",
       "      <td>0.0</td>\n",
       "      <td>7155.507000</td>\n",
       "      <td>10.222153</td>\n",
       "      <td>8.600000</td>\n",
       "      <td>6.682160</td>\n",
       "      <td>44.651264</td>\n",
       "      <td>0.900000</td>\n",
       "      <td>0.900000</td>\n",
       "      <td>1.900000</td>\n",
       "      <td>2.900000</td>\n",
       "      <td>5.000000</td>\n",
       "      <td>8.600000</td>\n",
       "      <td>14.125000</td>\n",
       "      <td>19.610000</td>\n",
       "      <td>23.800000</td>\n",
       "      <td>30.700010</td>\n",
       "      <td>30.701000</td>\n",
       "    </tr>\n",
       "    <tr>\n",
       "      <th>creddebt</th>\n",
       "      <td>700.0</td>\n",
       "      <td>0.0</td>\n",
       "      <td>1049.190134</td>\n",
       "      <td>1.498843</td>\n",
       "      <td>0.854869</td>\n",
       "      <td>1.788451</td>\n",
       "      <td>3.198555</td>\n",
       "      <td>0.030209</td>\n",
       "      <td>0.030212</td>\n",
       "      <td>0.107029</td>\n",
       "      <td>0.170020</td>\n",
       "      <td>0.369059</td>\n",
       "      <td>0.854869</td>\n",
       "      <td>1.901955</td>\n",
       "      <td>3.621504</td>\n",
       "      <td>5.098264</td>\n",
       "      <td>9.876748</td>\n",
       "      <td>9.891428</td>\n",
       "    </tr>\n",
       "    <tr>\n",
       "      <th>othdebt</th>\n",
       "      <td>700.0</td>\n",
       "      <td>0.0</td>\n",
       "      <td>2119.103279</td>\n",
       "      <td>3.027290</td>\n",
       "      <td>1.987567</td>\n",
       "      <td>3.115401</td>\n",
       "      <td>9.705723</td>\n",
       "      <td>0.160936</td>\n",
       "      <td>0.160983</td>\n",
       "      <td>0.376727</td>\n",
       "      <td>0.562232</td>\n",
       "      <td>1.044178</td>\n",
       "      <td>1.987567</td>\n",
       "      <td>3.923065</td>\n",
       "      <td>7.036180</td>\n",
       "      <td>9.501648</td>\n",
       "      <td>17.184554</td>\n",
       "      <td>17.184744</td>\n",
       "    </tr>\n",
       "    <tr>\n",
       "      <th>default</th>\n",
       "      <td>700.0</td>\n",
       "      <td>0.0</td>\n",
       "      <td>183.000000</td>\n",
       "      <td>0.261429</td>\n",
       "      <td>0.000000</td>\n",
       "      <td>0.439727</td>\n",
       "      <td>0.193360</td>\n",
       "      <td>0.000000</td>\n",
       "      <td>0.000000</td>\n",
       "      <td>0.000000</td>\n",
       "      <td>0.000000</td>\n",
       "      <td>0.000000</td>\n",
       "      <td>0.000000</td>\n",
       "      <td>1.000000</td>\n",
       "      <td>1.000000</td>\n",
       "      <td>1.000000</td>\n",
       "      <td>1.000000</td>\n",
       "      <td>1.000000</td>\n",
       "    </tr>\n",
       "  </tbody>\n",
       "</table>\n",
       "</div>"
      ],
      "text/plain": [
       "              N  NMISS           SUM       MEAN     MEDIAN        STD  \\\n",
       "age       700.0    0.0  24393.070000  34.847243  34.000000   7.954735   \n",
       "ed        700.0    0.0   1201.000000   1.715714   1.000000   0.906523   \n",
       "employ    700.0    0.0   5851.070000   8.358671   7.000000   6.566008   \n",
       "address   700.0    0.0   5771.070000   8.244386   7.000000   6.721915   \n",
       "income    700.0    0.0  31394.100000  44.848714  34.000000  31.942133   \n",
       "debtinc   700.0    0.0   7155.507000  10.222153   8.600000   6.682160   \n",
       "creddebt  700.0    0.0   1049.190134   1.498843   0.854869   1.788451   \n",
       "othdebt   700.0    0.0   2119.103279   3.027290   1.987567   3.115401   \n",
       "default   700.0    0.0    183.000000   0.261429   0.000000   0.439727   \n",
       "\n",
       "                  VAR        MIN         P1         P5        P10        P25  \\\n",
       "age         63.277806  21.000000  21.000000  23.000000  25.000000  29.000000   \n",
       "ed           0.821784   1.000000   1.000000   1.000000   1.000000   1.000000   \n",
       "employ      43.112459   0.000000   0.000000   0.000000   1.000000   3.000000   \n",
       "address     45.184140   0.000000   0.000000   0.000000   1.000000   3.000000   \n",
       "income    1020.299870  15.000000  15.000000  17.000000  19.000000  24.000000   \n",
       "debtinc     44.651264   0.900000   0.900000   1.900000   2.900000   5.000000   \n",
       "creddebt     3.198555   0.030209   0.030212   0.107029   0.170020   0.369059   \n",
       "othdebt      9.705723   0.160936   0.160983   0.376727   0.562232   1.044178   \n",
       "default      0.193360   0.000000   0.000000   0.000000   0.000000   0.000000   \n",
       "\n",
       "                P50        P75        P90         P95         P99         MAX  \n",
       "age       34.000000  40.000000  46.000000   49.000000   53.000100   53.010000  \n",
       "ed         1.000000   2.000000   3.000000    4.000000    4.000000    4.000000  \n",
       "employ     7.000000  12.000000  18.000000   21.050000   27.000100   27.010000  \n",
       "address    7.000000  12.000000  18.000000   22.000000   26.000100   26.010000  \n",
       "income    34.000000  55.000000  82.000000  113.000000  190.003000  190.300000  \n",
       "debtinc    8.600000  14.125000  19.610000   23.800000   30.700010   30.701000  \n",
       "creddebt   0.854869   1.901955   3.621504    5.098264    9.876748    9.891428  \n",
       "othdebt    1.987567   3.923065   7.036180    9.501648   17.184554   17.184744  \n",
       "default    0.000000   1.000000   1.000000    1.000000    1.000000    1.000000  "
      ]
     },
     "execution_count": 138,
     "metadata": {},
     "output_type": "execute_result"
    }
   ],
   "source": [
    "bankloans_existing.apply(lambda x : var_summary(x) ).T"
   ]
  },
  {
   "cell_type": "code",
   "execution_count": 139,
   "metadata": {},
   "outputs": [],
   "source": [
    "# Checking coree between Default and others"
   ]
  },
  {
   "cell_type": "code",
   "execution_count": 140,
   "metadata": {},
   "outputs": [
    {
     "data": {
      "text/plain": [
       "<matplotlib.axes._subplots.AxesSubplot at 0x1351abcc0>"
      ]
     },
     "execution_count": 140,
     "metadata": {},
     "output_type": "execute_result"
    },
    {
     "data": {
      "image/png": "[encoded data removed]",
      "text/plain": [
       "<Figure size 720x540 with 2 Axes>"
      ]
     },
     "metadata": {
      "needs_background": "light"
     },
     "output_type": "display_data"
    }
   ],
   "source": [
    "sns.heatmap(bankloans_existing.corr(), annot = True)"
   ]
  },
  {
   "cell_type": "code",
   "execution_count": 141,
   "metadata": {},
   "outputs": [],
   "source": [
    "# Performing bivariate analysis on the data for p values of variables\n",
    "# using t test"
   ]
  },
  {
   "cell_type": "code",
   "execution_count": 142,
   "metadata": {},
   "outputs": [
    {
     "data": {
      "text/plain": [
       "<Figure size 720x540 with 0 Axes>"
      ]
     },
     "metadata": {},
     "output_type": "display_data"
    }
   ],
   "source": [
    "import statsmodels.formula.api as sm\n",
    "import scipy.stats as stats\n",
    "import pandas_profiling   #need to install using anaconda prompt (pip install pandas_profiling)\n",
    "from matplotlib import pyplot as plt\n",
    "%matplotlib inline\n",
    "\n",
    "plt.rcParams['figure.figsize'] = 10, 7.5\n",
    "plt.rcParams['axes.grid'] = True\n",
    "plt.gray()\n",
    "\n",
    "from matplotlib.backends.backend_pdf import PdfPages\n",
    "\n",
    "from sklearn.model_selection import train_test_split\n",
    "from sklearn import metrics\n",
    "from sklearn.linear_model import LogisticRegression\n",
    "from statsmodels.stats.outliers_influence import variance_inflation_factor\n",
    "from patsy import dmatrices"
   ]
  },
  {
   "cell_type": "code",
   "execution_count": 143,
   "metadata": {},
   "outputs": [
    {
     "data": {
      "text/html": [
       "<div>\n",
       "<style scoped>\n",
       "    .dataframe tbody tr th:only-of-type {\n",
       "        vertical-align: middle;\n",
       "    }\n",
       "\n",
       "    .dataframe tbody tr th {\n",
       "        vertical-align: top;\n",
       "    }\n",
       "\n",
       "    .dataframe thead th {\n",
       "        text-align: right;\n",
       "    }\n",
       "</style>\n",
       "<table border=\"1\" class=\"dataframe\">\n",
       "  <thead>\n",
       "    <tr style=\"text-align: right;\">\n",
       "      <th></th>\n",
       "      <th>Var</th>\n",
       "      <th>Tscore</th>\n",
       "      <th>P value</th>\n",
       "    </tr>\n",
       "  </thead>\n",
       "  <tbody>\n",
       "    <tr>\n",
       "      <th>0</th>\n",
       "      <td>age</td>\n",
       "      <td>-3.699</td>\n",
       "      <td>2.335268e-04</td>\n",
       "    </tr>\n",
       "    <tr>\n",
       "      <th>1</th>\n",
       "      <td>ed</td>\n",
       "      <td>3.154</td>\n",
       "      <td>1.682360e-03</td>\n",
       "    </tr>\n",
       "    <tr>\n",
       "      <th>2</th>\n",
       "      <td>employ</td>\n",
       "      <td>-7.921</td>\n",
       "      <td>9.279946e-15</td>\n",
       "    </tr>\n",
       "    <tr>\n",
       "      <th>3</th>\n",
       "      <td>address</td>\n",
       "      <td>-4.431</td>\n",
       "      <td>1.091044e-05</td>\n",
       "    </tr>\n",
       "    <tr>\n",
       "      <th>4</th>\n",
       "      <td>income</td>\n",
       "      <td>-2.643</td>\n",
       "      <td>8.394680e-03</td>\n",
       "    </tr>\n",
       "    <tr>\n",
       "      <th>5</th>\n",
       "      <td>debtinc</td>\n",
       "      <td>11.141</td>\n",
       "      <td>1.202407e-26</td>\n",
       "    </tr>\n",
       "    <tr>\n",
       "      <th>6</th>\n",
       "      <td>creddebt</td>\n",
       "      <td>6.479</td>\n",
       "      <td>1.742801e-10</td>\n",
       "    </tr>\n",
       "    <tr>\n",
       "      <th>7</th>\n",
       "      <td>othdebt</td>\n",
       "      <td>3.707</td>\n",
       "      <td>2.260946e-04</td>\n",
       "    </tr>\n",
       "    <tr>\n",
       "      <th>8</th>\n",
       "      <td>default</td>\n",
       "      <td>inf</td>\n",
       "      <td>0.000000e+00</td>\n",
       "    </tr>\n",
       "  </tbody>\n",
       "</table>\n",
       "</div>"
      ],
      "text/plain": [
       "        Var  Tscore       P value\n",
       "0       age  -3.699  2.335268e-04\n",
       "1        ed   3.154  1.682360e-03\n",
       "2    employ  -7.921  9.279946e-15\n",
       "3   address  -4.431  1.091044e-05\n",
       "4    income  -2.643  8.394680e-03\n",
       "5   debtinc  11.141  1.202407e-26\n",
       "6  creddebt   6.479  1.742801e-10\n",
       "7   othdebt   3.707  2.260946e-04\n",
       "8   default     inf  0.000000e+00"
      ]
     },
     "execution_count": 143,
     "metadata": {},
     "output_type": "execute_result"
    }
   ],
   "source": [
    "dict_tstats = {} \n",
    "var = []\n",
    "t = []\n",
    "p = []\n",
    "\n",
    "for x in bankloans_existing.columns:\n",
    "    tstats = stats.ttest_ind(bankloans_existing[bankloans_existing['default']==1][x],\n",
    "                             bankloans_existing[bankloans_existing['default']==0][x])\n",
    "#     print('Variable :' + x ,'T score :' + str(tstats[0].round(3)), tstats[1])\n",
    "    \n",
    "    var.append(x)\n",
    "    t.append(tstats[0].round(3))\n",
    "    p.append(tstats[1])\n",
    "\n",
    "df = pd.DataFrame(list(zip(var, t, p)))\n",
    "df.columns = ['Var', 'Tscore', 'P value']\n",
    "df\n"
   ]
  },
  {
   "cell_type": "code",
   "execution_count": 144,
   "metadata": {},
   "outputs": [],
   "source": [
    "# all variables have p values < 0.01 that menas 99% + C1"
   ]
  },
  {
   "cell_type": "code",
   "execution_count": 145,
   "metadata": {},
   "outputs": [],
   "source": [
    "# checking for monotonicity of variables"
   ]
  },
  {
   "cell_type": "code",
   "execution_count": 163,
   "metadata": {},
   "outputs": [],
   "source": [
    "pd.qcut?"
   ]
  },
  {
   "cell_type": "code",
   "execution_count": 171,
   "metadata": {},
   "outputs": [
    {
     "data": {
      "image/png": "[encoded data removed]",
      "text/plain": [
       "<Figure size 720x288 with 1 Axes>"
      ]
     },
     "metadata": {
      "needs_background": "light"
     },
     "output_type": "display_data"
    },
    {
     "data": {
      "image/png": "[encoded data removed]",
      "text/plain": [
       "<Figure size 720x288 with 1 Axes>"
      ]
     },
     "metadata": {
      "needs_background": "light"
     },
     "output_type": "display_data"
    },
    {
     "data": {
      "image/png": "[encoded data removed]",
      "text/plain": [
       "<Figure size 720x288 with 1 Axes>"
      ]
     },
     "metadata": {
      "needs_background": "light"
     },
     "output_type": "display_data"
    },
    {
     "data": {
      "image/png": "[encoded data removed]",
      "text/plain": [
       "<Figure size 720x288 with 1 Axes>"
      ]
     },
     "metadata": {
      "needs_background": "light"
     },
     "output_type": "display_data"
    },
    {
     "data": {
      "image/png": "[encoded data removed]",
      "text/plain": [
       "<Figure size 720x288 with 1 Axes>"
      ]
     },
     "metadata": {
      "needs_background": "light"
     },
     "output_type": "display_data"
    },
    {
     "data": {
      "image/png": "[encoded data removed]",
      "text/plain": [
       "<Figure size 720x288 with 1 Axes>"
      ]
     },
     "metadata": {
      "needs_background": "light"
     },
     "output_type": "display_data"
    },
    {
     "data": {
      "image/png": "[encoded data removed]",
      "text/plain": [
       "<Figure size 720x288 with 1 Axes>"
      ]
     },
     "metadata": {
      "needs_background": "light"
     },
     "output_type": "display_data"
    },
    {
     "data": {
      "image/png": "[encoded data removed]",
      "text/plain": [
       "<Figure size 720x288 with 1 Axes>"
      ]
     },
     "metadata": {
      "needs_background": "light"
     },
     "output_type": "display_data"
    }
   ],
   "source": [
    "bp = PdfPages('Transformation Plots.pdf')\n",
    "\n",
    "for x in bankloans_existing.columns.difference(['default']):\n",
    "    \n",
    "#     creating bins using pd.cut\n",
    "    binned = pd.cut(bankloans_existing[x], bins = 5, labels = list(range(1,6)))\n",
    "    \n",
    "    binned = binned.dropna()\n",
    "    \n",
    "#     calculating ratio of odds = p(y=1)/(1-p(y = 1))\n",
    "\n",
    "    odds = bankloans_existing.groupby(binned)['default'].sum() / (bankloans_existing.groupby(binned)['default'].count()-bankloans_existing.groupby(binned)['default'].sum())\n",
    "    odds = np.log(odds)\n",
    "    \n",
    "#     visualising log of odds and x variables for monotonicity\n",
    "\n",
    "    fig,axes = plt.subplots(figsize=(10,4))\n",
    "    sns.barplot(x=odds.index,y=odds)\n",
    "    plt.ylabel('Log Odds Ratio')\n",
    "    plt.title(str('Logit Plot for identifying if the bucketing is required or not for variable ') + str(x))\n",
    "    bp.savefig(fig)\n",
    "\n",
    "bp.close()"
   ]
  },
  {
   "cell_type": "code",
   "execution_count": 173,
   "metadata": {},
   "outputs": [],
   "source": [
    "# Variable reduction techniques"
   ]
  },
  {
   "cell_type": "code",
   "execution_count": 175,
   "metadata": {},
   "outputs": [],
   "source": [
    "# 1. Somer's D value \n",
    "\n",
    "# we calculate the AUC and GINi for COMBINATIONS OF Xi & Y\n",
    "# Gini = 2*AUC-1"
   ]
  },
  {
   "cell_type": "code",
   "execution_count": 183,
   "metadata": {},
   "outputs": [
    {
     "name": "stdout",
     "output_type": "stream",
     "text": [
      "Optimization terminated successfully.\n",
      "         Current function value: 0.559938\n",
      "         Iterations 5\n",
      "Optimization terminated successfully.\n",
      "         Current function value: 0.564806\n",
      "         Iterations 5\n",
      "Optimization terminated successfully.\n",
      "         Current function value: 0.547045\n",
      "         Iterations 5\n",
      "Optimization terminated successfully.\n",
      "         Current function value: 0.501021\n",
      "         Iterations 6\n",
      "Optimization terminated successfully.\n",
      "         Current function value: 0.568222\n",
      "         Iterations 5\n",
      "Optimization terminated successfully.\n",
      "         Current function value: 0.528154\n",
      "         Iterations 6\n",
      "Optimization terminated successfully.\n",
      "         Current function value: 0.571691\n",
      "         Iterations 5\n",
      "Optimization terminated successfully.\n",
      "         Current function value: 0.564828\n",
      "         Iterations 5\n"
     ]
    },
    {
     "data": {
      "text/html": [
       "<div>\n",
       "<style scoped>\n",
       "    .dataframe tbody tr th:only-of-type {\n",
       "        vertical-align: middle;\n",
       "    }\n",
       "\n",
       "    .dataframe tbody tr th {\n",
       "        vertical-align: top;\n",
       "    }\n",
       "\n",
       "    .dataframe thead th {\n",
       "        text-align: right;\n",
       "    }\n",
       "</style>\n",
       "<table border=\"1\" class=\"dataframe\">\n",
       "  <thead>\n",
       "    <tr style=\"text-align: right;\">\n",
       "      <th></th>\n",
       "      <th>Variable Name</th>\n",
       "      <th>SomersD</th>\n",
       "    </tr>\n",
       "  </thead>\n",
       "  <tbody>\n",
       "    <tr>\n",
       "      <th>0</th>\n",
       "      <td>address</td>\n",
       "      <td>0.222384</td>\n",
       "    </tr>\n",
       "    <tr>\n",
       "      <th>0</th>\n",
       "      <td>age</td>\n",
       "      <td>0.206403</td>\n",
       "    </tr>\n",
       "    <tr>\n",
       "      <th>0</th>\n",
       "      <td>creddebt</td>\n",
       "      <td>0.272378</td>\n",
       "    </tr>\n",
       "    <tr>\n",
       "      <th>0</th>\n",
       "      <td>debtinc</td>\n",
       "      <td>0.470601</td>\n",
       "    </tr>\n",
       "    <tr>\n",
       "      <th>0</th>\n",
       "      <td>ed</td>\n",
       "      <td>0.147964</td>\n",
       "    </tr>\n",
       "    <tr>\n",
       "      <th>0</th>\n",
       "      <td>employ</td>\n",
       "      <td>0.409138</td>\n",
       "    </tr>\n",
       "    <tr>\n",
       "      <th>0</th>\n",
       "      <td>income</td>\n",
       "      <td>0.200336</td>\n",
       "    </tr>\n",
       "    <tr>\n",
       "      <th>0</th>\n",
       "      <td>othdebt</td>\n",
       "      <td>0.173828</td>\n",
       "    </tr>\n",
       "  </tbody>\n",
       "</table>\n",
       "</div>"
      ],
      "text/plain": [
       "  Variable Name   SomersD\n",
       "0       address  0.222384\n",
       "0           age  0.206403\n",
       "0      creddebt  0.272378\n",
       "0       debtinc  0.470601\n",
       "0            ed  0.147964\n",
       "0        employ  0.409138\n",
       "0        income  0.200336\n",
       "0       othdebt  0.173828"
      ]
     },
     "execution_count": 183,
     "metadata": {},
     "output_type": "execute_result"
    }
   ],
   "source": [
    "somersd_df = pd.DataFrame()\n",
    "for x in bankloans_existing.columns.difference(['default']):\n",
    "# defining log reg formula like done in linear reg\n",
    "    logreg = sm.logit(formula = str('default ~ ')+str(x), data=bankloans_existing)\n",
    "    result = logreg.fit()\n",
    "    summ = result.summary()\n",
    "#     print(summ)\n",
    "# getting y_score for each X\n",
    "    y_score = pd.DataFrame(result.predict())\n",
    "    y_score.columns = ['Score']\n",
    "\n",
    "# calculating SOmer's D value for each Xi & Y combination\n",
    "    somers_d = 2*metrics.roc_auc_score(bankloans_existing['default'],y_score) - 1\n",
    "    temp = pd.DataFrame([x,somers_d]).T\n",
    "    temp.columns = ['Variable Name', 'SomersD']\n",
    "    somersd_df = pd.concat([somersd_df, temp], axis=0)\n",
    "\n",
    "somersd_df"
   ]
  },
  {
   "cell_type": "code",
   "execution_count": 184,
   "metadata": {},
   "outputs": [],
   "source": [
    "# Now calculating VIF using dmatrices as done in linear regression, VIF = 1/1-R2\n",
    "# Here also a reg model is made making Xi as tgt and all other X as explaonatory variables\n",
    "# VIF > 5 means 1/1-R2 >5 or 1-R2 > 1/5 or R2 > 4/5 ie R2 > 80%, which means 80% of info in Xi is explained by all other X vars\n",
    "# This means presence of multicolinearity"
   ]
  },
  {
   "cell_type": "code",
   "execution_count": 194,
   "metadata": {},
   "outputs": [
    {
     "name": "stdout",
     "output_type": "stream",
     "text": [
      "   VIF Factor   features\n",
      "0   34.989407  Intercept\n",
      "1    1.563287    address\n",
      "2    2.018512        age\n",
      "3    2.516961   creddebt\n",
      "4    3.246393    debtinc\n",
      "5    1.262185         ed\n",
      "6    2.204052     employ\n",
      "7    4.206131     income\n",
      "8    3.850861    othdebt\n"
     ]
    }
   ],
   "source": [
    "X = bankloans_existing\n",
    "features = \"+\".join(bankloans_existing.columns.difference(['default']))\n",
    "X.head()\n",
    "\n",
    "a,b = dmatrices(formula_like='default ~ '+ features, data = X, return_type='dataframe')\n",
    "\n",
    "vif = pd.DataFrame()\n",
    "vif[\"VIF Factor\"] = [variance_inflation_factor(b.values, i) for i in range(b.shape[1])]\n",
    "# here i will take index of each colm of data and calculate R2 for xi with all other x\n",
    "vif[\"features\"] = b.columns\n",
    "\n",
    "\n",
    "print(vif)"
   ]
  },
  {
   "cell_type": "code",
   "execution_count": 195,
   "metadata": {},
   "outputs": [],
   "source": [
    "vif[\"R sq\"] = 1-1/vif[\"VIF Factor\"]"
   ]
  },
  {
   "cell_type": "code",
   "execution_count": 196,
   "metadata": {},
   "outputs": [
    {
     "data": {
      "text/html": [
       "<div>\n",
       "<style scoped>\n",
       "    .dataframe tbody tr th:only-of-type {\n",
       "        vertical-align: middle;\n",
       "    }\n",
       "\n",
       "    .dataframe tbody tr th {\n",
       "        vertical-align: top;\n",
       "    }\n",
       "\n",
       "    .dataframe thead th {\n",
       "        text-align: right;\n",
       "    }\n",
       "</style>\n",
       "<table border=\"1\" class=\"dataframe\">\n",
       "  <thead>\n",
       "    <tr style=\"text-align: right;\">\n",
       "      <th></th>\n",
       "      <th>VIF Factor</th>\n",
       "      <th>features</th>\n",
       "      <th>R sq</th>\n",
       "    </tr>\n",
       "  </thead>\n",
       "  <tbody>\n",
       "    <tr>\n",
       "      <th>0</th>\n",
       "      <td>34.989407</td>\n",
       "      <td>Intercept</td>\n",
       "      <td>0.971420</td>\n",
       "    </tr>\n",
       "    <tr>\n",
       "      <th>1</th>\n",
       "      <td>1.563287</td>\n",
       "      <td>address</td>\n",
       "      <td>0.360322</td>\n",
       "    </tr>\n",
       "    <tr>\n",
       "      <th>2</th>\n",
       "      <td>2.018512</td>\n",
       "      <td>age</td>\n",
       "      <td>0.504586</td>\n",
       "    </tr>\n",
       "    <tr>\n",
       "      <th>3</th>\n",
       "      <td>2.516961</td>\n",
       "      <td>creddebt</td>\n",
       "      <td>0.602695</td>\n",
       "    </tr>\n",
       "    <tr>\n",
       "      <th>4</th>\n",
       "      <td>3.246393</td>\n",
       "      <td>debtinc</td>\n",
       "      <td>0.691966</td>\n",
       "    </tr>\n",
       "    <tr>\n",
       "      <th>5</th>\n",
       "      <td>1.262185</td>\n",
       "      <td>ed</td>\n",
       "      <td>0.207723</td>\n",
       "    </tr>\n",
       "    <tr>\n",
       "      <th>6</th>\n",
       "      <td>2.204052</td>\n",
       "      <td>employ</td>\n",
       "      <td>0.546290</td>\n",
       "    </tr>\n",
       "    <tr>\n",
       "      <th>7</th>\n",
       "      <td>4.206131</td>\n",
       "      <td>income</td>\n",
       "      <td>0.762252</td>\n",
       "    </tr>\n",
       "    <tr>\n",
       "      <th>8</th>\n",
       "      <td>3.850861</td>\n",
       "      <td>othdebt</td>\n",
       "      <td>0.740318</td>\n",
       "    </tr>\n",
       "  </tbody>\n",
       "</table>\n",
       "</div>"
      ],
      "text/plain": [
       "   VIF Factor   features      R sq\n",
       "0   34.989407  Intercept  0.971420\n",
       "1    1.563287    address  0.360322\n",
       "2    2.018512        age  0.504586\n",
       "3    2.516961   creddebt  0.602695\n",
       "4    3.246393    debtinc  0.691966\n",
       "5    1.262185         ed  0.207723\n",
       "6    2.204052     employ  0.546290\n",
       "7    4.206131     income  0.762252\n",
       "8    3.850861    othdebt  0.740318"
      ]
     },
     "execution_count": 196,
     "metadata": {},
     "output_type": "execute_result"
    }
   ],
   "source": [
    "# vif and R2 are fine for all variables so we dont need to remove"
   ]
  },
  {
   "cell_type": "code",
   "execution_count": 198,
   "metadata": {},
   "outputs": [
    {
     "data": {
      "text/html": [
       "<div>\n",
       "<style scoped>\n",
       "    .dataframe tbody tr th:only-of-type {\n",
       "        vertical-align: middle;\n",
       "    }\n",
       "\n",
       "    .dataframe tbody tr th {\n",
       "        vertical-align: top;\n",
       "    }\n",
       "\n",
       "    .dataframe thead th {\n",
       "        text-align: right;\n",
       "    }\n",
       "</style>\n",
       "<table border=\"1\" class=\"dataframe\">\n",
       "  <thead>\n",
       "    <tr style=\"text-align: right;\">\n",
       "      <th></th>\n",
       "      <th>age</th>\n",
       "      <th>ed</th>\n",
       "      <th>employ</th>\n",
       "      <th>address</th>\n",
       "      <th>income</th>\n",
       "      <th>debtinc</th>\n",
       "      <th>creddebt</th>\n",
       "      <th>othdebt</th>\n",
       "      <th>default</th>\n",
       "    </tr>\n",
       "  </thead>\n",
       "  <tbody>\n",
       "    <tr>\n",
       "      <th>0</th>\n",
       "      <td>41</td>\n",
       "      <td>3</td>\n",
       "      <td>17</td>\n",
       "      <td>12</td>\n",
       "      <td>176</td>\n",
       "      <td>9.3</td>\n",
       "      <td>11.359392</td>\n",
       "      <td>5.008608</td>\n",
       "      <td>1.0</td>\n",
       "    </tr>\n",
       "    <tr>\n",
       "      <th>1</th>\n",
       "      <td>27</td>\n",
       "      <td>1</td>\n",
       "      <td>10</td>\n",
       "      <td>6</td>\n",
       "      <td>31</td>\n",
       "      <td>17.3</td>\n",
       "      <td>1.362202</td>\n",
       "      <td>4.000798</td>\n",
       "      <td>0.0</td>\n",
       "    </tr>\n",
       "    <tr>\n",
       "      <th>2</th>\n",
       "      <td>40</td>\n",
       "      <td>1</td>\n",
       "      <td>15</td>\n",
       "      <td>14</td>\n",
       "      <td>55</td>\n",
       "      <td>5.5</td>\n",
       "      <td>0.856075</td>\n",
       "      <td>2.168925</td>\n",
       "      <td>0.0</td>\n",
       "    </tr>\n",
       "    <tr>\n",
       "      <th>3</th>\n",
       "      <td>41</td>\n",
       "      <td>1</td>\n",
       "      <td>15</td>\n",
       "      <td>14</td>\n",
       "      <td>120</td>\n",
       "      <td>2.9</td>\n",
       "      <td>2.658720</td>\n",
       "      <td>0.821280</td>\n",
       "      <td>0.0</td>\n",
       "    </tr>\n",
       "    <tr>\n",
       "      <th>4</th>\n",
       "      <td>24</td>\n",
       "      <td>2</td>\n",
       "      <td>2</td>\n",
       "      <td>0</td>\n",
       "      <td>28</td>\n",
       "      <td>17.3</td>\n",
       "      <td>1.787436</td>\n",
       "      <td>3.056564</td>\n",
       "      <td>1.0</td>\n",
       "    </tr>\n",
       "  </tbody>\n",
       "</table>\n",
       "</div>"
      ],
      "text/plain": [
       "   age  ed  employ  address  income  debtinc   creddebt   othdebt  default\n",
       "0   41   3      17       12     176      9.3  11.359392  5.008608      1.0\n",
       "1   27   1      10        6      31     17.3   1.362202  4.000798      0.0\n",
       "2   40   1      15       14      55      5.5   0.856075  2.168925      0.0\n",
       "3   41   1      15       14     120      2.9   2.658720  0.821280      0.0\n",
       "4   24   2       2        0      28     17.3   1.787436  3.056564      1.0"
      ]
     },
     "execution_count": 198,
     "metadata": {},
     "output_type": "execute_result"
    }
   ],
   "source": [
    "X.head()"
   ]
  },
  {
   "cell_type": "code",
   "execution_count": 206,
   "metadata": {},
   "outputs": [
    {
     "data": {
      "text/plain": [
       "Index(['age', 'ed', 'employ', 'address', 'income', 'debtinc', 'creddebt',\n",
       "       'othdebt', 'default'],\n",
       "      dtype='object')"
      ]
     },
     "execution_count": 206,
     "metadata": {},
     "output_type": "execute_result"
    }
   ],
   "source": [
    "#Train and Test split\n",
    "\n",
    "train_features_1 = X.columns.difference(['default'])\n",
    "train_X, test_X = train_test_split(X, test_size=0.3, random_state=1234)\n",
    "train_X.columns"
   ]
  },
  {
   "cell_type": "code",
   "execution_count": 207,
   "metadata": {},
   "outputs": [
    {
     "data": {
      "text/plain": [
       "'default ~ address+age+creddebt+debtinc+ed+employ+income+othdebt'"
      ]
     },
     "execution_count": 207,
     "metadata": {},
     "output_type": "execute_result"
    }
   ],
   "source": [
    "formula_1 = 'default ~ ' + \"+\".join(train_features_1)\n",
    "formula_1"
   ]
  },
  {
   "cell_type": "code",
   "execution_count": 208,
   "metadata": {},
   "outputs": [
    {
     "name": "stdout",
     "output_type": "stream",
     "text": [
      "Optimization terminated successfully.\n",
      "         Current function value: 0.392208\n",
      "         Iterations 8\n"
     ]
    }
   ],
   "source": [
    "logreg = sm.logit(formula=formula_1, data=train_X)\n",
    "result = logreg.fit()"
   ]
  },
  {
   "cell_type": "code",
   "execution_count": 209,
   "metadata": {},
   "outputs": [
    {
     "data": {
      "text/html": [
       "<table class=\"simpletable\">\n",
       "<caption>Logit Regression Results</caption>\n",
       "<tr>\n",
       "  <th>Dep. Variable:</th>        <td>default</td>     <th>  No. Observations:  </th>  <td>   490</td>  \n",
       "</tr>\n",
       "<tr>\n",
       "  <th>Model:</th>                 <td>Logit</td>      <th>  Df Residuals:      </th>  <td>   481</td>  \n",
       "</tr>\n",
       "<tr>\n",
       "  <th>Method:</th>                 <td>MLE</td>       <th>  Df Model:          </th>  <td>     8</td>  \n",
       "</tr>\n",
       "<tr>\n",
       "  <th>Date:</th>            <td>Sat, 02 May 2020</td> <th>  Pseudo R-squ.:     </th>  <td>0.3093</td>  \n",
       "</tr>\n",
       "<tr>\n",
       "  <th>Time:</th>                <td>02:56:25</td>     <th>  Log-Likelihood:    </th> <td> -192.18</td> \n",
       "</tr>\n",
       "<tr>\n",
       "  <th>converged:</th>             <td>True</td>       <th>  LL-Null:           </th> <td> -278.26</td> \n",
       "</tr>\n",
       "<tr>\n",
       "  <th>Covariance Type:</th>     <td>nonrobust</td>    <th>  LLR p-value:       </th> <td>4.569e-33</td>\n",
       "</tr>\n",
       "</table>\n",
       "<table class=\"simpletable\">\n",
       "<tr>\n",
       "      <td></td>         <th>coef</th>     <th>std err</th>      <th>z</th>      <th>P>|z|</th>  <th>[0.025</th>    <th>0.975]</th>  \n",
       "</tr>\n",
       "<tr>\n",
       "  <th>Intercept</th> <td>   -1.0347</td> <td>    0.779</td> <td>   -1.328</td> <td> 0.184</td> <td>   -2.562</td> <td>    0.493</td>\n",
       "</tr>\n",
       "<tr>\n",
       "  <th>address</th>   <td>   -0.0928</td> <td>    0.027</td> <td>   -3.459</td> <td> 0.001</td> <td>   -0.145</td> <td>   -0.040</td>\n",
       "</tr>\n",
       "<tr>\n",
       "  <th>age</th>       <td>    0.0372</td> <td>    0.021</td> <td>    1.769</td> <td> 0.077</td> <td>   -0.004</td> <td>    0.078</td>\n",
       "</tr>\n",
       "<tr>\n",
       "  <th>creddebt</th>  <td>    0.7522</td> <td>    0.154</td> <td>    4.899</td> <td> 0.000</td> <td>    0.451</td> <td>    1.053</td>\n",
       "</tr>\n",
       "<tr>\n",
       "  <th>debtinc</th>   <td>    0.0160</td> <td>    0.041</td> <td>    0.389</td> <td> 0.697</td> <td>   -0.065</td> <td>    0.097</td>\n",
       "</tr>\n",
       "<tr>\n",
       "  <th>ed</th>        <td>    0.1040</td> <td>    0.152</td> <td>    0.684</td> <td> 0.494</td> <td>   -0.194</td> <td>    0.402</td>\n",
       "</tr>\n",
       "<tr>\n",
       "  <th>employ</th>    <td>   -0.2506</td> <td>    0.041</td> <td>   -6.047</td> <td> 0.000</td> <td>   -0.332</td> <td>   -0.169</td>\n",
       "</tr>\n",
       "<tr>\n",
       "  <th>income</th>    <td>   -0.0277</td> <td>    0.015</td> <td>   -1.871</td> <td> 0.061</td> <td>   -0.057</td> <td>    0.001</td>\n",
       "</tr>\n",
       "<tr>\n",
       "  <th>othdebt</th>   <td>    0.1681</td> <td>    0.105</td> <td>    1.603</td> <td> 0.109</td> <td>   -0.037</td> <td>    0.374</td>\n",
       "</tr>\n",
       "</table>"
      ],
      "text/plain": [
       "<class 'statsmodels.iolib.summary.Summary'>\n",
       "\"\"\"\n",
       "                           Logit Regression Results                           \n",
       "==============================================================================\n",
       "Dep. Variable:                default   No. Observations:                  490\n",
       "Model:                          Logit   Df Residuals:                      481\n",
       "Method:                           MLE   Df Model:                            8\n",
       "Date:                Sat, 02 May 2020   Pseudo R-squ.:                  0.3093\n",
       "Time:                        02:56:25   Log-Likelihood:                -192.18\n",
       "converged:                       True   LL-Null:                       -278.26\n",
       "Covariance Type:            nonrobust   LLR p-value:                 4.569e-33\n",
       "==============================================================================\n",
       "                 coef    std err          z      P>|z|      [0.025      0.975]\n",
       "------------------------------------------------------------------------------\n",
       "Intercept     -1.0347      0.779     -1.328      0.184      -2.562       0.493\n",
       "address       -0.0928      0.027     -3.459      0.001      -0.145      -0.040\n",
       "age            0.0372      0.021      1.769      0.077      -0.004       0.078\n",
       "creddebt       0.7522      0.154      4.899      0.000       0.451       1.053\n",
       "debtinc        0.0160      0.041      0.389      0.697      -0.065       0.097\n",
       "ed             0.1040      0.152      0.684      0.494      -0.194       0.402\n",
       "employ        -0.2506      0.041     -6.047      0.000      -0.332      -0.169\n",
       "income        -0.0277      0.015     -1.871      0.061      -0.057       0.001\n",
       "othdebt        0.1681      0.105      1.603      0.109      -0.037       0.374\n",
       "==============================================================================\n",
       "\"\"\""
      ]
     },
     "execution_count": 209,
     "metadata": {},
     "output_type": "execute_result"
    }
   ],
   "source": [
    "result.summary()"
   ]
  },
  {
   "cell_type": "code",
   "execution_count": 210,
   "metadata": {},
   "outputs": [],
   "source": [
    "# filtering out variables with high P>|Z| one by 1, High P means low confidence and multicolinearity"
   ]
  },
  {
   "cell_type": "code",
   "execution_count": 215,
   "metadata": {},
   "outputs": [],
   "source": [
    "train_features_2 = X.columns.difference(['default','debtinc'])"
   ]
  },
  {
   "cell_type": "code",
   "execution_count": 216,
   "metadata": {},
   "outputs": [],
   "source": [
    "formula_2 = 'default ~ ' + \"+\".join(train_features_2)"
   ]
  },
  {
   "cell_type": "code",
   "execution_count": 217,
   "metadata": {},
   "outputs": [
    {
     "data": {
      "text/plain": [
       "'default ~ address+age+creddebt+ed+employ+income+othdebt'"
      ]
     },
     "execution_count": 217,
     "metadata": {},
     "output_type": "execute_result"
    }
   ],
   "source": [
    "formula_2"
   ]
  },
  {
   "cell_type": "code",
   "execution_count": 218,
   "metadata": {},
   "outputs": [
    {
     "name": "stdout",
     "output_type": "stream",
     "text": [
      "Optimization terminated successfully.\n",
      "         Current function value: 0.392362\n",
      "         Iterations 7\n"
     ]
    },
    {
     "data": {
      "text/html": [
       "<table class=\"simpletable\">\n",
       "<caption>Logit Regression Results</caption>\n",
       "<tr>\n",
       "  <th>Dep. Variable:</th>        <td>default</td>     <th>  No. Observations:  </th>  <td>   490</td>  \n",
       "</tr>\n",
       "<tr>\n",
       "  <th>Model:</th>                 <td>Logit</td>      <th>  Df Residuals:      </th>  <td>   482</td>  \n",
       "</tr>\n",
       "<tr>\n",
       "  <th>Method:</th>                 <td>MLE</td>       <th>  Df Model:          </th>  <td>     7</td>  \n",
       "</tr>\n",
       "<tr>\n",
       "  <th>Date:</th>            <td>Sat, 02 May 2020</td> <th>  Pseudo R-squ.:     </th>  <td>0.3091</td>  \n",
       "</tr>\n",
       "<tr>\n",
       "  <th>Time:</th>                <td>03:00:16</td>     <th>  Log-Likelihood:    </th> <td> -192.26</td> \n",
       "</tr>\n",
       "<tr>\n",
       "  <th>converged:</th>             <td>True</td>       <th>  LL-Null:           </th> <td> -278.26</td> \n",
       "</tr>\n",
       "<tr>\n",
       "  <th>Covariance Type:</th>     <td>nonrobust</td>    <th>  LLR p-value:       </th> <td>9.510e-34</td>\n",
       "</tr>\n",
       "</table>\n",
       "<table class=\"simpletable\">\n",
       "<tr>\n",
       "      <td></td>         <th>coef</th>     <th>std err</th>      <th>z</th>      <th>P>|z|</th>  <th>[0.025</th>    <th>0.975]</th>  \n",
       "</tr>\n",
       "<tr>\n",
       "  <th>Intercept</th> <td>   -0.8592</td> <td>    0.635</td> <td>   -1.354</td> <td> 0.176</td> <td>   -2.103</td> <td>    0.385</td>\n",
       "</tr>\n",
       "<tr>\n",
       "  <th>address</th>   <td>   -0.0931</td> <td>    0.027</td> <td>   -3.473</td> <td> 0.001</td> <td>   -0.146</td> <td>   -0.041</td>\n",
       "</tr>\n",
       "<tr>\n",
       "  <th>age</th>       <td>    0.0377</td> <td>    0.021</td> <td>    1.799</td> <td> 0.072</td> <td>   -0.003</td> <td>    0.079</td>\n",
       "</tr>\n",
       "<tr>\n",
       "  <th>creddebt</th>  <td>    0.7927</td> <td>    0.115</td> <td>    6.883</td> <td> 0.000</td> <td>    0.567</td> <td>    1.018</td>\n",
       "</tr>\n",
       "<tr>\n",
       "  <th>ed</th>        <td>    0.1025</td> <td>    0.152</td> <td>    0.675</td> <td> 0.500</td> <td>   -0.195</td> <td>    0.400</td>\n",
       "</tr>\n",
       "<tr>\n",
       "  <th>employ</th>    <td>   -0.2529</td> <td>    0.041</td> <td>   -6.118</td> <td> 0.000</td> <td>   -0.334</td> <td>   -0.172</td>\n",
       "</tr>\n",
       "<tr>\n",
       "  <th>income</th>    <td>   -0.0318</td> <td>    0.011</td> <td>   -2.966</td> <td> 0.003</td> <td>   -0.053</td> <td>   -0.011</td>\n",
       "</tr>\n",
       "<tr>\n",
       "  <th>othdebt</th>   <td>    0.2018</td> <td>    0.060</td> <td>    3.352</td> <td> 0.001</td> <td>    0.084</td> <td>    0.320</td>\n",
       "</tr>\n",
       "</table>"
      ],
      "text/plain": [
       "<class 'statsmodels.iolib.summary.Summary'>\n",
       "\"\"\"\n",
       "                           Logit Regression Results                           \n",
       "==============================================================================\n",
       "Dep. Variable:                default   No. Observations:                  490\n",
       "Model:                          Logit   Df Residuals:                      482\n",
       "Method:                           MLE   Df Model:                            7\n",
       "Date:                Sat, 02 May 2020   Pseudo R-squ.:                  0.3091\n",
       "Time:                        03:00:16   Log-Likelihood:                -192.26\n",
       "converged:                       True   LL-Null:                       -278.26\n",
       "Covariance Type:            nonrobust   LLR p-value:                 9.510e-34\n",
       "==============================================================================\n",
       "                 coef    std err          z      P>|z|      [0.025      0.975]\n",
       "------------------------------------------------------------------------------\n",
       "Intercept     -0.8592      0.635     -1.354      0.176      -2.103       0.385\n",
       "address       -0.0931      0.027     -3.473      0.001      -0.146      -0.041\n",
       "age            0.0377      0.021      1.799      0.072      -0.003       0.079\n",
       "creddebt       0.7927      0.115      6.883      0.000       0.567       1.018\n",
       "ed             0.1025      0.152      0.675      0.500      -0.195       0.400\n",
       "employ        -0.2529      0.041     -6.118      0.000      -0.334      -0.172\n",
       "income        -0.0318      0.011     -2.966      0.003      -0.053      -0.011\n",
       "othdebt        0.2018      0.060      3.352      0.001       0.084       0.320\n",
       "==============================================================================\n",
       "\"\"\""
      ]
     },
     "execution_count": 218,
     "metadata": {},
     "output_type": "execute_result"
    }
   ],
   "source": [
    "logreg = sm.logit(formula=formula_2, data=train_X)\n",
    "result = logreg.fit()\n",
    "result.summary()"
   ]
  },
  {
   "cell_type": "code",
   "execution_count": 219,
   "metadata": {},
   "outputs": [],
   "source": [
    "# age and ed are still high P values so they need to go"
   ]
  },
  {
   "cell_type": "code",
   "execution_count": 228,
   "metadata": {},
   "outputs": [],
   "source": [
    "train_features_3 = X.columns.difference(['default', 'age', 'ed', 'debtinc'])"
   ]
  },
  {
   "cell_type": "code",
   "execution_count": 229,
   "metadata": {},
   "outputs": [
    {
     "data": {
      "text/plain": [
       "'default ~address+creddebt+employ+income+othdebt'"
      ]
     },
     "execution_count": 229,
     "metadata": {},
     "output_type": "execute_result"
    }
   ],
   "source": [
    "formula_3 = 'default ~'+'+'.join(train_features_3)\n",
    "formula_3"
   ]
  },
  {
   "cell_type": "code",
   "execution_count": 230,
   "metadata": {},
   "outputs": [
    {
     "name": "stdout",
     "output_type": "stream",
     "text": [
      "Optimization terminated successfully.\n",
      "         Current function value: 0.395819\n",
      "         Iterations 7\n"
     ]
    },
    {
     "data": {
      "text/html": [
       "<table class=\"simpletable\">\n",
       "<caption>Logit Regression Results</caption>\n",
       "<tr>\n",
       "  <th>Dep. Variable:</th>        <td>default</td>     <th>  No. Observations:  </th>  <td>   490</td>  \n",
       "</tr>\n",
       "<tr>\n",
       "  <th>Model:</th>                 <td>Logit</td>      <th>  Df Residuals:      </th>  <td>   484</td>  \n",
       "</tr>\n",
       "<tr>\n",
       "  <th>Method:</th>                 <td>MLE</td>       <th>  Df Model:          </th>  <td>     5</td>  \n",
       "</tr>\n",
       "<tr>\n",
       "  <th>Date:</th>            <td>Sat, 02 May 2020</td> <th>  Pseudo R-squ.:     </th>  <td>0.3030</td>  \n",
       "</tr>\n",
       "<tr>\n",
       "  <th>Time:</th>                <td>03:04:24</td>     <th>  Log-Likelihood:    </th> <td> -193.95</td> \n",
       "</tr>\n",
       "<tr>\n",
       "  <th>converged:</th>             <td>True</td>       <th>  LL-Null:           </th> <td> -278.26</td> \n",
       "</tr>\n",
       "<tr>\n",
       "  <th>Covariance Type:</th>     <td>nonrobust</td>    <th>  LLR p-value:       </th> <td>1.444e-34</td>\n",
       "</tr>\n",
       "</table>\n",
       "<table class=\"simpletable\">\n",
       "<tr>\n",
       "      <td></td>         <th>coef</th>     <th>std err</th>      <th>z</th>      <th>P>|z|</th>  <th>[0.025</th>    <th>0.975]</th>  \n",
       "</tr>\n",
       "<tr>\n",
       "  <th>Intercept</th> <td>    0.2016</td> <td>    0.263</td> <td>    0.765</td> <td> 0.444</td> <td>   -0.315</td> <td>    0.718</td>\n",
       "</tr>\n",
       "<tr>\n",
       "  <th>address</th>   <td>   -0.0700</td> <td>    0.023</td> <td>   -3.003</td> <td> 0.003</td> <td>   -0.116</td> <td>   -0.024</td>\n",
       "</tr>\n",
       "<tr>\n",
       "  <th>creddebt</th>  <td>    0.7642</td> <td>    0.113</td> <td>    6.791</td> <td> 0.000</td> <td>    0.544</td> <td>    0.985</td>\n",
       "</tr>\n",
       "<tr>\n",
       "  <th>employ</th>    <td>   -0.2443</td> <td>    0.037</td> <td>   -6.617</td> <td> 0.000</td> <td>   -0.317</td> <td>   -0.172</td>\n",
       "</tr>\n",
       "<tr>\n",
       "  <th>income</th>    <td>   -0.0262</td> <td>    0.010</td> <td>   -2.755</td> <td> 0.006</td> <td>   -0.045</td> <td>   -0.008</td>\n",
       "</tr>\n",
       "<tr>\n",
       "  <th>othdebt</th>   <td>    0.2048</td> <td>    0.060</td> <td>    3.434</td> <td> 0.001</td> <td>    0.088</td> <td>    0.322</td>\n",
       "</tr>\n",
       "</table>"
      ],
      "text/plain": [
       "<class 'statsmodels.iolib.summary.Summary'>\n",
       "\"\"\"\n",
       "                           Logit Regression Results                           \n",
       "==============================================================================\n",
       "Dep. Variable:                default   No. Observations:                  490\n",
       "Model:                          Logit   Df Residuals:                      484\n",
       "Method:                           MLE   Df Model:                            5\n",
       "Date:                Sat, 02 May 2020   Pseudo R-squ.:                  0.3030\n",
       "Time:                        03:04:24   Log-Likelihood:                -193.95\n",
       "converged:                       True   LL-Null:                       -278.26\n",
       "Covariance Type:            nonrobust   LLR p-value:                 1.444e-34\n",
       "==============================================================================\n",
       "                 coef    std err          z      P>|z|      [0.025      0.975]\n",
       "------------------------------------------------------------------------------\n",
       "Intercept      0.2016      0.263      0.765      0.444      -0.315       0.718\n",
       "address       -0.0700      0.023     -3.003      0.003      -0.116      -0.024\n",
       "creddebt       0.7642      0.113      6.791      0.000       0.544       0.985\n",
       "employ        -0.2443      0.037     -6.617      0.000      -0.317      -0.172\n",
       "income        -0.0262      0.010     -2.755      0.006      -0.045      -0.008\n",
       "othdebt        0.2048      0.060      3.434      0.001       0.088       0.322\n",
       "==============================================================================\n",
       "\"\"\""
      ]
     },
     "execution_count": 230,
     "metadata": {},
     "output_type": "execute_result"
    }
   ],
   "source": [
    "logreg = sm.logit(formula = formula_3, data = train_X)\n",
    "result = logreg.fit()\n",
    "result.summary()"
   ]
  },
  {
   "cell_type": "code",
   "execution_count": 231,
   "metadata": {},
   "outputs": [],
   "source": [
    "# This is our final model"
   ]
  },
  {
   "cell_type": "code",
   "execution_count": 232,
   "metadata": {},
   "outputs": [],
   "source": [
    "# Now calculating Gini for train and test both"
   ]
  },
  {
   "cell_type": "code",
   "execution_count": 259,
   "metadata": {},
   "outputs": [
    {
     "name": "stdout",
     "output_type": "stream",
     "text": [
      "The Gini Index for the model built on the Train Data is :  0.7068712328767124\n",
      "The Gini Index for the model built on the Test Data is :  0.692377495462795\n",
      "Diff in gini in % = 2.05\n"
     ]
    }
   ],
   "source": [
    "train_gini = 2*metrics.roc_auc_score(train_X['default'], result.predict(train_X))-1\n",
    "print(\"The Gini Index for the model built on the Train Data is : \", train_gini)\n",
    "\n",
    "test_gini = 2*metrics.roc_auc_score(test_X['default'], result.predict(test_X)) - 1\n",
    "print(\"The Gini Index for the model built on the Test Data is : \", test_gini)\n",
    "\n",
    "Diff_gini = (1-(test_gini/train_gini))*100.00\n",
    "print('Diff in gini in % = ' + str(Diff_gini.round(3)))"
   ]
  },
  {
   "cell_type": "code",
   "execution_count": 241,
   "metadata": {},
   "outputs": [],
   "source": [
    "# Now calculating parameters for roc curve are finding cutoff for probability and confusion matrix"
   ]
  },
  {
   "cell_type": "code",
   "execution_count": 242,
   "metadata": {},
   "outputs": [],
   "source": [
    "# predicting probability of Y=1 in train data "
   ]
  },
  {
   "cell_type": "code",
   "execution_count": 256,
   "metadata": {},
   "outputs": [
    {
     "data": {
      "text/html": [
       "<div>\n",
       "<style scoped>\n",
       "    .dataframe tbody tr th:only-of-type {\n",
       "        vertical-align: middle;\n",
       "    }\n",
       "\n",
       "    .dataframe tbody tr th {\n",
       "        vertical-align: top;\n",
       "    }\n",
       "\n",
       "    .dataframe thead th {\n",
       "        text-align: right;\n",
       "    }\n",
       "</style>\n",
       "<table border=\"1\" class=\"dataframe\">\n",
       "  <thead>\n",
       "    <tr style=\"text-align: right;\">\n",
       "      <th></th>\n",
       "      <th>actual</th>\n",
       "      <th>prob</th>\n",
       "    </tr>\n",
       "  </thead>\n",
       "  <tbody>\n",
       "    <tr>\n",
       "      <th>367</th>\n",
       "      <td>0.0</td>\n",
       "      <td>0.003744</td>\n",
       "    </tr>\n",
       "    <tr>\n",
       "      <th>518</th>\n",
       "      <td>0.0</td>\n",
       "      <td>0.025156</td>\n",
       "    </tr>\n",
       "    <tr>\n",
       "      <th>57</th>\n",
       "      <td>0.0</td>\n",
       "      <td>0.004101</td>\n",
       "    </tr>\n",
       "    <tr>\n",
       "      <th>240</th>\n",
       "      <td>0.0</td>\n",
       "      <td>0.367337</td>\n",
       "    </tr>\n",
       "    <tr>\n",
       "      <th>185</th>\n",
       "      <td>0.0</td>\n",
       "      <td>0.034577</td>\n",
       "    </tr>\n",
       "  </tbody>\n",
       "</table>\n",
       "</div>"
      ],
      "text/plain": [
       "     actual      prob\n",
       "367     0.0  0.003744\n",
       "518     0.0  0.025156\n",
       "57      0.0  0.004101\n",
       "240     0.0  0.367337\n",
       "185     0.0  0.034577"
      ]
     },
     "execution_count": 256,
     "metadata": {},
     "output_type": "execute_result"
    }
   ],
   "source": [
    "train_predict_prob = pd.DataFrame(result.predict(train_X))\n",
    "train_actual = train_X['default']\n",
    "train_predict_prob.columns = ['prob']\n",
    "train_predict = pd.concat([train_actual, train_predict_prob], axis = 1)\n",
    "train_predict.columns = ['actual','prob']\n",
    "train_predict.head()\n"
   ]
  },
  {
   "cell_type": "code",
   "execution_count": 261,
   "metadata": {},
   "outputs": [
    {
     "data": {
      "text/html": [
       "<div>\n",
       "<style scoped>\n",
       "    .dataframe tbody tr th:only-of-type {\n",
       "        vertical-align: middle;\n",
       "    }\n",
       "\n",
       "    .dataframe tbody tr th {\n",
       "        vertical-align: top;\n",
       "    }\n",
       "\n",
       "    .dataframe thead th {\n",
       "        text-align: right;\n",
       "    }\n",
       "</style>\n",
       "<table border=\"1\" class=\"dataframe\">\n",
       "  <thead>\n",
       "    <tr style=\"text-align: right;\">\n",
       "      <th></th>\n",
       "      <th>actual</th>\n",
       "      <th>prob</th>\n",
       "    </tr>\n",
       "  </thead>\n",
       "  <tbody>\n",
       "    <tr>\n",
       "      <th>341</th>\n",
       "      <td>0.0</td>\n",
       "      <td>0.208595</td>\n",
       "    </tr>\n",
       "    <tr>\n",
       "      <th>532</th>\n",
       "      <td>1.0</td>\n",
       "      <td>0.306299</td>\n",
       "    </tr>\n",
       "    <tr>\n",
       "      <th>684</th>\n",
       "      <td>0.0</td>\n",
       "      <td>0.009242</td>\n",
       "    </tr>\n",
       "    <tr>\n",
       "      <th>83</th>\n",
       "      <td>0.0</td>\n",
       "      <td>0.274625</td>\n",
       "    </tr>\n",
       "    <tr>\n",
       "      <th>428</th>\n",
       "      <td>1.0</td>\n",
       "      <td>0.329047</td>\n",
       "    </tr>\n",
       "  </tbody>\n",
       "</table>\n",
       "</div>"
      ],
      "text/plain": [
       "     actual      prob\n",
       "341     0.0  0.208595\n",
       "532     1.0  0.306299\n",
       "684     0.0  0.009242\n",
       "83      0.0  0.274625\n",
       "428     1.0  0.329047"
      ]
     },
     "execution_count": 261,
     "metadata": {},
     "output_type": "execute_result"
    }
   ],
   "source": [
    "test_predict_prob = pd.DataFrame(result.predict(test_X))\n",
    "test_actual = test_X['default']\n",
    "test_predict_prob.columns = ['prob']\n",
    "test_predict = pd.concat([test_actual, test_predict_prob], axis = 1)\n",
    "test_predict.columns = ['actual','prob']\n",
    "test_predict.head()"
   ]
  },
  {
   "cell_type": "code",
   "execution_count": 263,
   "metadata": {},
   "outputs": [],
   "source": [
    "# creating data for selecting threshold"
   ]
  },
  {
   "cell_type": "code",
   "execution_count": 266,
   "metadata": {},
   "outputs": [],
   "source": [
    "roc_like_df = pd.DataFrame()\n",
    "train_temp = train_predict.copy()\n",
    "\n",
    "for cut_off in np.linspace(0,1,1000):\n",
    "# This will take some time as the loop will run 1000 times for 1000 values between 0.0001 and 1.000\n",
    "    train_temp['cut_off'] = cut_off\n",
    "    \n",
    "#     if prob is < cutoff then 0 else 1\n",
    "    train_temp['predicted'] = train_temp['prob'].apply(lambda x: 0.0 if x\n",
    "                                                       < cut_off else 1.0)\n",
    "    \n",
    "# true positive TP = 1 when both act & pred = 1    \n",
    "    train_temp['tp'] = train_temp.apply(lambda x: 1.0 if x['actual']==1.0 and\n",
    "                                        x['predicted']==1 else 0.0, axis=1)\n",
    "    \n",
    "# false positive FP = 1 when act =0 & pred = 1    \n",
    "    train_temp['fp'] = train_temp.apply(lambda x: 1.0 if x['actual']==0.0 \n",
    "                                        and x['predicted']==1 else 0.0, axis=1)\n",
    "    \n",
    "# true Negative TN = 1 when act & pred both = 0\n",
    "    train_temp['tn'] = train_temp.apply(lambda x: 1.0 if x['actual']==0.0 and \n",
    "                                        x['predicted']==0 else 0.0, axis=1)\n",
    "    \n",
    "# false negative FN = 1 when act = 1 & pred = 0    \n",
    "    train_temp['fn'] = train_temp.apply(lambda x: 1.0 if x['actual']==1.0\n",
    "                                        and x['predicted']==0 else 0.0, axis=1)\n",
    "    \n",
    "# sensitivity is ratio of true positive and actual positives (TP+FN)    \n",
    "    sensitivity = train_temp['tp'].sum() / (train_temp['tp'].sum() + train_temp['fn'].sum())\n",
    "\n",
    "# specificity is ratio of true negatives and actual negatives (TN+FP)    \n",
    "    specificity = train_temp['tn'].sum() / (train_temp['tn'].sum() + train_temp['fp'].sum())\n",
    "\n",
    "    roc_like_table = pd.DataFrame([cut_off, sensitivity, specificity]).T\n",
    "    roc_like_table.columns = ['cutoff', 'sensitivity', 'specificity']\n",
    "    \n",
    "    roc_like_df = pd.concat([roc_like_df, roc_like_table], axis=0)\n",
    "\n"
   ]
  },
  {
   "cell_type": "code",
   "execution_count": 268,
   "metadata": {},
   "outputs": [],
   "source": [
    "# Now best cut off is where both Se and Sp are max or (sum of Se & Sp is max)"
   ]
  },
  {
   "cell_type": "code",
   "execution_count": 269,
   "metadata": {},
   "outputs": [],
   "source": [
    "roc_like_df['sum'] = roc_like_df['sensitivity'] + roc_like_df['specificity']"
   ]
  },
  {
   "cell_type": "code",
   "execution_count": 271,
   "metadata": {},
   "outputs": [
    {
     "data": {
      "text/html": [
       "<div>\n",
       "<style scoped>\n",
       "    .dataframe tbody tr th:only-of-type {\n",
       "        vertical-align: middle;\n",
       "    }\n",
       "\n",
       "    .dataframe tbody tr th {\n",
       "        vertical-align: top;\n",
       "    }\n",
       "\n",
       "    .dataframe thead th {\n",
       "        text-align: right;\n",
       "    }\n",
       "</style>\n",
       "<table border=\"1\" class=\"dataframe\">\n",
       "  <thead>\n",
       "    <tr style=\"text-align: right;\">\n",
       "      <th></th>\n",
       "      <th>cutoff</th>\n",
       "      <th>sensitivity</th>\n",
       "      <th>specificity</th>\n",
       "      <th>sum</th>\n",
       "    </tr>\n",
       "  </thead>\n",
       "  <tbody>\n",
       "    <tr>\n",
       "      <th>0</th>\n",
       "      <td>0.306306</td>\n",
       "      <td>0.752</td>\n",
       "      <td>0.80274</td>\n",
       "      <td>1.55474</td>\n",
       "    </tr>\n",
       "    <tr>\n",
       "      <th>0</th>\n",
       "      <td>0.307307</td>\n",
       "      <td>0.752</td>\n",
       "      <td>0.80274</td>\n",
       "      <td>1.55474</td>\n",
       "    </tr>\n",
       "    <tr>\n",
       "      <th>0</th>\n",
       "      <td>0.308308</td>\n",
       "      <td>0.752</td>\n",
       "      <td>0.80274</td>\n",
       "      <td>1.55474</td>\n",
       "    </tr>\n",
       "  </tbody>\n",
       "</table>\n",
       "</div>"
      ],
      "text/plain": [
       "     cutoff  sensitivity  specificity      sum\n",
       "0  0.306306        0.752      0.80274  1.55474\n",
       "0  0.307307        0.752      0.80274  1.55474\n",
       "0  0.308308        0.752      0.80274  1.55474"
      ]
     },
     "execution_count": 271,
     "metadata": {},
     "output_type": "execute_result"
    }
   ],
   "source": [
    "roc_like_df.loc[roc_like_df['sum']==roc_like_df['sum'].max(),:]"
   ]
  },
  {
   "cell_type": "code",
   "execution_count": 272,
   "metadata": {},
   "outputs": [],
   "source": [
    "# so lets choose out threshold as 0.3073"
   ]
  },
  {
   "cell_type": "code",
   "execution_count": 273,
   "metadata": {},
   "outputs": [],
   "source": [
    "# Viewing the data Graphically"
   ]
  },
  {
   "cell_type": "code",
   "execution_count": null,
   "metadata": {},
   "outputs": [],
   "source": [
    "plt.subplots(figsize=(10,4))\n",
    "\n",
    "plt.scatter(roc_lo)\n",
    "\n",
    "plt.scatter(roc_like_df['cutoff'], roc_like_df['specificity'], marker='*', label='Specificity')\n",
    "\n",
    "plt.scatter(roc_like_df['cutoff'], 1-roc_like_df['specificity'], marker='*', label='FPR')\n",
    "\n",
    "plt.title('For each cutoff, pair of sensitivity and FPR is plotted for ROC')\n",
    "plt.legend()"
   ]
  },
  {
   "cell_type": "code",
   "execution_count": 274,
   "metadata": {},
   "outputs": [],
   "source": [
    "import seaborn as sns"
   ]
  },
  {
   "cell_type": "code",
   "execution_count": 295,
   "metadata": {},
   "outputs": [
    {
     "data": {
      "text/plain": [
       "<matplotlib.axes._subplots.AxesSubplot at 0x134089c18>"
      ]
     },
     "execution_count": 295,
     "metadata": {},
     "output_type": "execute_result"
    },
    {
     "data": {
      "image/png": "[encoded data removed]",
      "text/plain": [
       "<Figure size 720x288 with 1 Axes>"
      ]
     },
     "metadata": {
      "needs_background": "light"
     },
     "output_type": "display_data"
    }
   ],
   "source": [
    "plt.subplots(figsize=(10,4))\n",
    "\n",
    "\n",
    "sns.scatterplot(x = 'cutoff', y = 'specificity', data = roc_like_df, marker = '*', label = 'Specificity')\n",
    "sns.scatterplot(x = 'cutoff', y = 'sensitivity', data = roc_like_df, marker = '*', label = 'Sensitivity')\n",
    "sns.scatterplot(x = 'cutoff', y = 1-roc_like_df['specificity'], data = roc_like_df, marker = '*', label = 'FPR')\n",
    "\n",
    "\n"
   ]
  },
  {
   "cell_type": "code",
   "execution_count": 297,
   "metadata": {},
   "outputs": [],
   "source": [
    "# Threshold = pt where Sp & Se intersect"
   ]
  },
  {
   "cell_type": "code",
   "execution_count": 299,
   "metadata": {},
   "outputs": [],
   "source": [
    "test_predict['predicted'] = test_predict['prob'].apply(lambda x : 1 if x > 0.3073 else 0)\n",
    "train_predict['predicted'] = train_predict['prob'].apply(lambda x : 1 if x > 0.3073 else 0)"
   ]
  },
  {
   "cell_type": "code",
   "execution_count": 300,
   "metadata": {},
   "outputs": [],
   "source": [
    "# ctreting confusion matrix"
   ]
  },
  {
   "cell_type": "code",
   "execution_count": 302,
   "metadata": {},
   "outputs": [
    {
     "data": {
      "image/png": "[encoded data removed]",
      "text/plain": [
       "<Figure size 720x540 with 2 Axes>"
      ]
     },
     "metadata": {
      "needs_background": "light"
     },
     "output_type": "display_data"
    }
   ],
   "source": [
    "sns.heatmap(pd.crosstab(train_predict['actual'], train_predict['predicted']), annot=True, fmt='.0f')\n",
    "plt.title('Train Data Confusion Matrix')\n",
    "plt.show()"
   ]
  },
  {
   "cell_type": "code",
   "execution_count": 307,
   "metadata": {},
   "outputs": [
    {
     "data": {
      "text/plain": [
       "0.789795918367347"
      ]
     },
     "execution_count": 307,
     "metadata": {},
     "output_type": "execute_result"
    }
   ],
   "source": [
    "accuracy_tr = (293+94)/train_X.shape[0]\n",
    "accuracy_tr"
   ]
  },
  {
   "cell_type": "code",
   "execution_count": 303,
   "metadata": {},
   "outputs": [
    {
     "data": {
      "image/png": "[encoded data removed]",
      "text/plain": [
       "<Figure size 720x540 with 2 Axes>"
      ]
     },
     "metadata": {
      "needs_background": "light"
     },
     "output_type": "display_data"
    }
   ],
   "source": [
    "sns.heatmap(pd.crosstab(test_predict['actual'], test_predict['predicted']), annot=True, fmt='.0f')\n",
    "plt.title('Test Data Confusion Matrix')\n",
    "plt.show()"
   ]
  },
  {
   "cell_type": "code",
   "execution_count": 308,
   "metadata": {},
   "outputs": [
    {
     "data": {
      "text/plain": [
       "0.7761904761904762"
      ]
     },
     "execution_count": 308,
     "metadata": {},
     "output_type": "execute_result"
    }
   ],
   "source": [
    "accuracy_test = (118+45)/test_X.shape[0]\n",
    "accuracy_test"
   ]
  },
  {
   "cell_type": "code",
   "execution_count": 309,
   "metadata": {},
   "outputs": [
    {
     "name": "stdout",
     "output_type": "stream",
     "text": [
      "The overall accuracy score for the Train Data is :  0.789795918367347\n",
      "The overall accuracy score for the Test Data  is :  0.7761904761904762\n"
     ]
    }
   ],
   "source": [
    "print(\"The overall accuracy score for the Train Data is : \", metrics.accuracy_score(train_predict.actual, train_predict.predicted))\n",
    "print(\"The overall accuracy score for the Test Data  is : \", metrics.accuracy_score(test_predict.actual, test_predict.predicted))"
   ]
  },
  {
   "cell_type": "code",
   "execution_count": 310,
   "metadata": {},
   "outputs": [],
   "source": [
    "# predicting values for bankloans_new"
   ]
  },
  {
   "cell_type": "code",
   "execution_count": 311,
   "metadata": {},
   "outputs": [
    {
     "data": {
      "text/plain": [
       "['log_model.pkl']"
      ]
     },
     "execution_count": 311,
     "metadata": {},
     "output_type": "execute_result"
    }
   ],
   "source": [
    "from sklearn.externals import joblib\n",
    "joblib.dump(result, 'log_model.pkl', compress=9)"
   ]
  },
  {
   "cell_type": "code",
   "execution_count": 312,
   "metadata": {},
   "outputs": [],
   "source": [
    "model_clone = joblib.load('log_model.pkl')"
   ]
  },
  {
   "cell_type": "code",
   "execution_count": 316,
   "metadata": {},
   "outputs": [],
   "source": [
    "bankloans_new['default'] =model_clone.predict(bankloans_new)"
   ]
  },
  {
   "cell_type": "code",
   "execution_count": 318,
   "metadata": {},
   "outputs": [
    {
     "data": {
      "text/html": [
       "<div>\n",
       "<style scoped>\n",
       "    .dataframe tbody tr th:only-of-type {\n",
       "        vertical-align: middle;\n",
       "    }\n",
       "\n",
       "    .dataframe tbody tr th {\n",
       "        vertical-align: top;\n",
       "    }\n",
       "\n",
       "    .dataframe thead th {\n",
       "        text-align: right;\n",
       "    }\n",
       "</style>\n",
       "<table border=\"1\" class=\"dataframe\">\n",
       "  <thead>\n",
       "    <tr style=\"text-align: right;\">\n",
       "      <th></th>\n",
       "      <th>age</th>\n",
       "      <th>ed</th>\n",
       "      <th>employ</th>\n",
       "      <th>address</th>\n",
       "      <th>income</th>\n",
       "      <th>debtinc</th>\n",
       "      <th>creddebt</th>\n",
       "      <th>othdebt</th>\n",
       "      <th>default</th>\n",
       "    </tr>\n",
       "  </thead>\n",
       "  <tbody>\n",
       "    <tr>\n",
       "      <th>700</th>\n",
       "      <td>36</td>\n",
       "      <td>1</td>\n",
       "      <td>16</td>\n",
       "      <td>13</td>\n",
       "      <td>32</td>\n",
       "      <td>10.9</td>\n",
       "      <td>0.544128</td>\n",
       "      <td>2.943872</td>\n",
       "      <td>0.011692</td>\n",
       "    </tr>\n",
       "    <tr>\n",
       "      <th>701</th>\n",
       "      <td>50</td>\n",
       "      <td>1</td>\n",
       "      <td>6</td>\n",
       "      <td>27</td>\n",
       "      <td>21</td>\n",
       "      <td>12.9</td>\n",
       "      <td>1.316574</td>\n",
       "      <td>1.392426</td>\n",
       "      <td>0.082107</td>\n",
       "    </tr>\n",
       "    <tr>\n",
       "      <th>702</th>\n",
       "      <td>40</td>\n",
       "      <td>1</td>\n",
       "      <td>9</td>\n",
       "      <td>9</td>\n",
       "      <td>33</td>\n",
       "      <td>17.0</td>\n",
       "      <td>4.880700</td>\n",
       "      <td>0.729300</td>\n",
       "      <td>0.595617</td>\n",
       "    </tr>\n",
       "    <tr>\n",
       "      <th>703</th>\n",
       "      <td>31</td>\n",
       "      <td>1</td>\n",
       "      <td>5</td>\n",
       "      <td>7</td>\n",
       "      <td>23</td>\n",
       "      <td>2.0</td>\n",
       "      <td>0.046000</td>\n",
       "      <td>0.414000</td>\n",
       "      <td>0.119956</td>\n",
       "    </tr>\n",
       "    <tr>\n",
       "      <th>704</th>\n",
       "      <td>29</td>\n",
       "      <td>1</td>\n",
       "      <td>4</td>\n",
       "      <td>0</td>\n",
       "      <td>24</td>\n",
       "      <td>7.8</td>\n",
       "      <td>0.866736</td>\n",
       "      <td>1.005264</td>\n",
       "      <td>0.369075</td>\n",
       "    </tr>\n",
       "  </tbody>\n",
       "</table>\n",
       "</div>"
      ],
      "text/plain": [
       "     age  ed  employ  address  income  debtinc  creddebt   othdebt   default\n",
       "700   36   1      16       13      32     10.9  0.544128  2.943872  0.011692\n",
       "701   50   1       6       27      21     12.9  1.316574  1.392426  0.082107\n",
       "702   40   1       9        9      33     17.0  4.880700  0.729300  0.595617\n",
       "703   31   1       5        7      23      2.0  0.046000  0.414000  0.119956\n",
       "704   29   1       4        0      24      7.8  0.866736  1.005264  0.369075"
      ]
     },
     "execution_count": 318,
     "metadata": {},
     "output_type": "execute_result"
    }
   ],
   "source": [
    "bankloans_new.head()"
   ]
  },
  {
   "cell_type": "code",
   "execution_count": 320,
   "metadata": {},
   "outputs": [],
   "source": [
    "bankloans_new['decision'] = bankloans_new['default'].apply(lambda x : 1 if x > 0.3070 else 0)"
   ]
  },
  {
   "cell_type": "code",
   "execution_count": 321,
   "metadata": {},
   "outputs": [
    {
     "data": {
      "text/plain": [
       "150"
      ]
     },
     "execution_count": 321,
     "metadata": {},
     "output_type": "execute_result"
    }
   ],
   "source": [
    "bankloans_new['decision'].count()"
   ]
  },
  {
   "cell_type": "code",
   "execution_count": 322,
   "metadata": {},
   "outputs": [
    {
     "data": {
      "text/plain": [
       "48"
      ]
     },
     "execution_count": 322,
     "metadata": {},
     "output_type": "execute_result"
    }
   ],
   "source": [
    "bankloans_new['decision'].sum()"
   ]
  },
  {
   "cell_type": "code",
   "execution_count": 331,
   "metadata": {},
   "outputs": [
    {
     "name": "stdout",
     "output_type": "stream",
     "text": [
      "Default % in new loans acc to our model : 32.0\n"
     ]
    }
   ],
   "source": [
    "print('Default % in new loans acc to our model : ' + str((bankloans_new['decision'].sum()\n",
    "                                                         /bankloans_new['decision'].count())*100))"
   ]
  },
  {
   "cell_type": "code",
   "execution_count": null,
   "metadata": {},
   "outputs": [],
   "source": []
  },
  {
   "cell_type": "code",
   "execution_count": null,
   "metadata": {},
   "outputs": [],
   "source": []
  },
  {
   "cell_type": "code",
   "execution_count": null,
   "metadata": {},
   "outputs": [],
   "source": []
  }
 ],
 "metadata": {
  "kernelspec": {
   "display_name": "Python 3",
   "language": "python",
   "name": "python3"
  },
  "language_info": {
   "codemirror_mode": {
    "name": "ipython",
    "version": 3
   },
   "file_extension": ".py",
   "mimetype": "text/x-python",
   "name": "python",
   "nbconvert_exporter": "python",
   "pygments_lexer": "ipython3",
   "version": "3.7.3"
  }
 },
 "nbformat": 4,
 "nbformat_minor": 2
}
